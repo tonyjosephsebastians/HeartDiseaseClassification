{
  "nbformat": 4,
  "nbformat_minor": 0,
  "metadata": {
    "colab": {
      "name": "Final_Submission.ipynb",
      "provenance": [],
      "collapsed_sections": [],
      "toc_visible": true
    },
    "kernelspec": {
      "display_name": "Python 3",
      "language": "python",
      "name": "python3"
    },
    "language_info": {
      "codemirror_mode": {
        "name": "ipython",
        "version": 3
      },
      "file_extension": ".py",
      "mimetype": "text/x-python",
      "name": "python",
      "nbconvert_exporter": "python",
      "pygments_lexer": "ipython3",
      "version": "3.8.5"
    }
  },
  "cells": [
    {
      "cell_type": "markdown",
      "metadata": {
        "id": "fZKG_3_-NtE0"
      },
      "source": [
        "# **HEART** **DISEASE** **PREDICTION**"
      ]
    },
    {
      "cell_type": "markdown",
      "metadata": {
        "id": "aU2fzBAEFnPH"
      },
      "source": [
        "Step 1 - Importing libraries"
      ]
    },
    {
      "cell_type": "code",
      "metadata": {
        "id": "USYbQ6xrFnPJ"
      },
      "source": [
        "import sklearn\n",
        "import numpy as np\n",
        "import pandas as pd\n",
        "\n",
        "import plotly as plot\n",
        "import plotly.express as px\n",
        "import plotly.graph_objs as go\n",
        "import plotly.offline as pyo\n",
        "from plotly.offline import init_notebook_mode,plot,iplot\n",
        "\n",
        "import cufflinks as cf\n",
        "import matplotlib.pyplot as plt\n",
        "import seaborn as sns"
      ],
      "execution_count": null,
      "outputs": []
    },
    {
      "cell_type": "code",
      "metadata": {
        "id": "2kMZdPfbFnPL"
      },
      "source": [
        "#Loaded dataset in dataframe collected from Kaggle\n",
        "#Add shortcut to heart csv file in our shared folder to My drive"
      ],
      "execution_count": null,
      "outputs": []
    },
    {
      "cell_type": "markdown",
      "metadata": {
        "id": "alchBZZfEVj9"
      },
      "source": [
        ""
      ]
    },
    {
      "cell_type": "code",
      "metadata": {
        "colab": {
          "resources": {
            "http://localhost:8080/nbextensions/google.colab/files.js": {
              "data": "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",
              "ok": true,
              "headers": [
                [
                  "content-type",
                  "application/javascript"
                ]
              ],
              "status": 200,
              "status_text": ""
            }
          },
          "base_uri": "https://localhost:8080/",
          "height": 73
        },
        "id": "18z9YZaKFnPM",
        "outputId": "cd5528cf-0ad5-4215-db4c-a9a69cd6f502"
      },
      "source": [
        "# from google.colab import drive\n",
        "# drive.mount('/content/drive/',force_remount=True)\n",
        "# df = pd.read_csv('/content/drive/My Drive/CBD(Team Project)/heart.csv', header =0)\n",
        "\n",
        "\n",
        "# Link Dataset :- https://www.kaggle.com/johnsmith88/heart-disease-dataset\n",
        "\n",
        "\n",
        "# Uploading data set.\n",
        "\n",
        "\n",
        "from google.colab import files\n",
        "uploaded = files.upload()"
      ],
      "execution_count": null,
      "outputs": [
        {
          "output_type": "display_data",
          "data": {
            "text/html": [
              "\n",
              "     <input type=\"file\" id=\"files-a08e369c-9ff4-4986-8fd0-bd22bc3b5d0e\" name=\"files[]\" multiple disabled\n",
              "        style=\"border:none\" />\n",
              "     <output id=\"result-a08e369c-9ff4-4986-8fd0-bd22bc3b5d0e\">\n",
              "      Upload widget is only available when the cell has been executed in the\n",
              "      current browser session. Please rerun this cell to enable.\n",
              "      </output>\n",
              "      <script src=\"/nbextensions/google.colab/files.js\"></script> "
            ],
            "text/plain": [
              "<IPython.core.display.HTML object>"
            ]
          },
          "metadata": {
            "tags": []
          }
        },
        {
          "output_type": "stream",
          "text": [
            "Saving heart.csv to heart.csv\n"
          ],
          "name": "stdout"
        }
      ]
    },
    {
      "cell_type": "code",
      "metadata": {
        "id": "GxLqspZKouMU"
      },
      "source": [
        "df = pd.read_csv('heart.csv')\n"
      ],
      "execution_count": null,
      "outputs": []
    },
    {
      "cell_type": "markdown",
      "metadata": {
        "id": "oT732ItcFnPM"
      },
      "source": [
        "Step 2 - Visualing Data"
      ]
    },
    {
      "cell_type": "code",
      "metadata": {
        "colab": {
          "base_uri": "https://localhost:8080/",
          "height": 203
        },
        "id": "aIWvhWcQFnPP",
        "outputId": "72643628-551b-4193-ca8e-a94ecdd2f4f3"
      },
      "source": [
        "#view first 5 rows of the dataset\n",
        "df.head()"
      ],
      "execution_count": null,
      "outputs": [
        {
          "output_type": "execute_result",
          "data": {
            "text/html": [
              "<div>\n",
              "<style scoped>\n",
              "    .dataframe tbody tr th:only-of-type {\n",
              "        vertical-align: middle;\n",
              "    }\n",
              "\n",
              "    .dataframe tbody tr th {\n",
              "        vertical-align: top;\n",
              "    }\n",
              "\n",
              "    .dataframe thead th {\n",
              "        text-align: right;\n",
              "    }\n",
              "</style>\n",
              "<table border=\"1\" class=\"dataframe\">\n",
              "  <thead>\n",
              "    <tr style=\"text-align: right;\">\n",
              "      <th></th>\n",
              "      <th>age</th>\n",
              "      <th>sex</th>\n",
              "      <th>cp</th>\n",
              "      <th>trestbps</th>\n",
              "      <th>chol</th>\n",
              "      <th>fbs</th>\n",
              "      <th>restecg</th>\n",
              "      <th>thalach</th>\n",
              "      <th>exang</th>\n",
              "      <th>oldpeak</th>\n",
              "      <th>slope</th>\n",
              "      <th>ca</th>\n",
              "      <th>thal</th>\n",
              "      <th>target</th>\n",
              "    </tr>\n",
              "  </thead>\n",
              "  <tbody>\n",
              "    <tr>\n",
              "      <th>0</th>\n",
              "      <td>52</td>\n",
              "      <td>1</td>\n",
              "      <td>0</td>\n",
              "      <td>125</td>\n",
              "      <td>212</td>\n",
              "      <td>0</td>\n",
              "      <td>1</td>\n",
              "      <td>168</td>\n",
              "      <td>0</td>\n",
              "      <td>1.0</td>\n",
              "      <td>2</td>\n",
              "      <td>2</td>\n",
              "      <td>3</td>\n",
              "      <td>0</td>\n",
              "    </tr>\n",
              "    <tr>\n",
              "      <th>1</th>\n",
              "      <td>53</td>\n",
              "      <td>1</td>\n",
              "      <td>0</td>\n",
              "      <td>140</td>\n",
              "      <td>203</td>\n",
              "      <td>1</td>\n",
              "      <td>0</td>\n",
              "      <td>155</td>\n",
              "      <td>1</td>\n",
              "      <td>3.1</td>\n",
              "      <td>0</td>\n",
              "      <td>0</td>\n",
              "      <td>3</td>\n",
              "      <td>0</td>\n",
              "    </tr>\n",
              "    <tr>\n",
              "      <th>2</th>\n",
              "      <td>70</td>\n",
              "      <td>1</td>\n",
              "      <td>0</td>\n",
              "      <td>145</td>\n",
              "      <td>174</td>\n",
              "      <td>0</td>\n",
              "      <td>1</td>\n",
              "      <td>125</td>\n",
              "      <td>1</td>\n",
              "      <td>2.6</td>\n",
              "      <td>0</td>\n",
              "      <td>0</td>\n",
              "      <td>3</td>\n",
              "      <td>0</td>\n",
              "    </tr>\n",
              "    <tr>\n",
              "      <th>3</th>\n",
              "      <td>61</td>\n",
              "      <td>1</td>\n",
              "      <td>0</td>\n",
              "      <td>148</td>\n",
              "      <td>203</td>\n",
              "      <td>0</td>\n",
              "      <td>1</td>\n",
              "      <td>161</td>\n",
              "      <td>0</td>\n",
              "      <td>0.0</td>\n",
              "      <td>2</td>\n",
              "      <td>1</td>\n",
              "      <td>3</td>\n",
              "      <td>0</td>\n",
              "    </tr>\n",
              "    <tr>\n",
              "      <th>4</th>\n",
              "      <td>62</td>\n",
              "      <td>0</td>\n",
              "      <td>0</td>\n",
              "      <td>138</td>\n",
              "      <td>294</td>\n",
              "      <td>1</td>\n",
              "      <td>1</td>\n",
              "      <td>106</td>\n",
              "      <td>0</td>\n",
              "      <td>1.9</td>\n",
              "      <td>1</td>\n",
              "      <td>3</td>\n",
              "      <td>2</td>\n",
              "      <td>0</td>\n",
              "    </tr>\n",
              "  </tbody>\n",
              "</table>\n",
              "</div>"
            ],
            "text/plain": [
              "   age  sex  cp  trestbps  chol  fbs  ...  exang  oldpeak  slope  ca  thal  target\n",
              "0   52    1   0       125   212    0  ...      0      1.0      2   2     3       0\n",
              "1   53    1   0       140   203    1  ...      1      3.1      0   0     3       0\n",
              "2   70    1   0       145   174    0  ...      1      2.6      0   0     3       0\n",
              "3   61    1   0       148   203    0  ...      0      0.0      2   1     3       0\n",
              "4   62    0   0       138   294    1  ...      0      1.9      1   3     2       0\n",
              "\n",
              "[5 rows x 14 columns]"
            ]
          },
          "metadata": {
            "tags": []
          },
          "execution_count": 6
        }
      ]
    },
    {
      "cell_type": "code",
      "metadata": {
        "id": "djCwCHKYPVxH"
      },
      "source": [
        ""
      ],
      "execution_count": null,
      "outputs": []
    },
    {
      "cell_type": "code",
      "metadata": {
        "colab": {
          "base_uri": "https://localhost:8080/"
        },
        "id": "CmBz2b18FnPR",
        "outputId": "ce1aa5a8-21d8-49e2-e7bd-514691b064bf"
      },
      "source": [
        "#check shape of the datset i.e number of rows and columns\n",
        "df.shape"
      ],
      "execution_count": null,
      "outputs": [
        {
          "output_type": "execute_result",
          "data": {
            "text/plain": [
              "(1025, 14)"
            ]
          },
          "metadata": {
            "tags": []
          },
          "execution_count": 7
        }
      ]
    },
    {
      "cell_type": "code",
      "metadata": {
        "colab": {
          "base_uri": "https://localhost:8080/"
        },
        "id": "LIoZL90HFnPS",
        "outputId": "158ffd8f-a48c-4da6-a423-6ca952cfabf8"
      },
      "source": [
        "#check for null column values\n",
        "df.info()"
      ],
      "execution_count": null,
      "outputs": [
        {
          "output_type": "stream",
          "text": [
            "<class 'pandas.core.frame.DataFrame'>\n",
            "RangeIndex: 1025 entries, 0 to 1024\n",
            "Data columns (total 14 columns):\n",
            " #   Column    Non-Null Count  Dtype  \n",
            "---  ------    --------------  -----  \n",
            " 0   age       1025 non-null   int64  \n",
            " 1   sex       1025 non-null   int64  \n",
            " 2   cp        1025 non-null   int64  \n",
            " 3   trestbps  1025 non-null   int64  \n",
            " 4   chol      1025 non-null   int64  \n",
            " 5   fbs       1025 non-null   int64  \n",
            " 6   restecg   1025 non-null   int64  \n",
            " 7   thalach   1025 non-null   int64  \n",
            " 8   exang     1025 non-null   int64  \n",
            " 9   oldpeak   1025 non-null   float64\n",
            " 10  slope     1025 non-null   int64  \n",
            " 11  ca        1025 non-null   int64  \n",
            " 12  thal      1025 non-null   int64  \n",
            " 13  target    1025 non-null   int64  \n",
            "dtypes: float64(1), int64(13)\n",
            "memory usage: 112.2 KB\n"
          ],
          "name": "stdout"
        }
      ]
    },
    {
      "cell_type": "code",
      "metadata": {
        "colab": {
          "base_uri": "https://localhost:8080/"
        },
        "id": "HNEgejt1FnPT",
        "outputId": "b4644991-9376-4f23-fcc0-4ab8f65e2eea"
      },
      "source": [
        "#column names of the data frame\n",
        "df.columns"
      ],
      "execution_count": null,
      "outputs": [
        {
          "output_type": "execute_result",
          "data": {
            "text/plain": [
              "Index(['age', 'sex', 'cp', 'trestbps', 'chol', 'fbs', 'restecg', 'thalach',\n",
              "       'exang', 'oldpeak', 'slope', 'ca', 'thal', 'target'],\n",
              "      dtype='object')"
            ]
          },
          "metadata": {
            "tags": []
          },
          "execution_count": 9
        }
      ]
    },
    {
      "cell_type": "markdown",
      "metadata": {
        "id": "89f7HVf-FnPU"
      },
      "source": [
        "The following are the column names of the datset\n",
        "1.)Age: displays the age of the individual.\n",
        "\n",
        "2.)Sex: displays the gender of the individual using the following format :\n",
        "1 = male\n",
        "0 = female\n",
        "\n",
        "3.)Chest-pain type: displays the type of chest-pain experienced by the individual using the following format :\n",
        "1 = typical angina\n",
        "2 = atypical angina\n",
        "3 = non — anginal pain\n",
        "4 = asymptotic\n",
        "\n",
        "\n",
        "4.)Resting Blood Pressure: displays the resting blood pressure value of an individual in mmHg (unit)\n",
        "\n",
        "5.)Serum Cholestrol: displays the serum cholesterol in mg/dl (unit)\n",
        "\n",
        "6.)Fasting Blood Sugar: compares the fasting blood sugar value of an individual with 120mg/dl.\n",
        "If fasting blood sugar > 120mg/dl then : 1 (true)\n",
        "else : 0 (false)\n",
        "\n",
        "7.)Resting ECG : displays resting electrocardiographic results\n",
        "0 = normal\n",
        "1 = having ST-T wave abnormality\n",
        "2 = left ventricular hyperthrophy\n",
        "\n",
        "8.)Max heart rate achieved : displays the max heart rate achieved by an individual.\n",
        "Exercise induced angina :\n",
        "1 = yes\n",
        "0 = no\n",
        "\n",
        "9.)ST depression induced by exercise relative to rest: displays the value which is an integer or float.\n",
        "\n",
        "10.)Peak exercise ST segment :\n",
        "1 = upsloping\n",
        "2 = flat\n",
        "3 = downsloping\n",
        "\n",
        "11.)Number of major vessels (0–3) colored by flourosopy : displays the value as integer or float.\n",
        "\n",
        "12.)Thal : displays the thalassemia :\n",
        "3 = normal\n",
        "6 = fixed defect\n",
        "7 = reversible defect\n",
        "\n",
        "13.)Diagnosis of heart disease : Displays whether the individual is suffering from heart disease or not :\n",
        "0 = absence\n",
        "1, 2, 3, 4 = present.  \n",
        "\n",
        "\n",
        "The \"target\" field refers to the presence of heart disease in the patient. It is integer valued 0 = no disease and 1 = disease."
      ]
    },
    {
      "cell_type": "code",
      "metadata": {
        "colab": {
          "base_uri": "https://localhost:8080/"
        },
        "id": "V4C12i-aFnPW",
        "outputId": "3a31082c-43c3-46ea-eed3-6d84325b6cdd"
      },
      "source": [
        "df['target']"
      ],
      "execution_count": null,
      "outputs": [
        {
          "output_type": "execute_result",
          "data": {
            "text/plain": [
              "0       0\n",
              "1       0\n",
              "2       0\n",
              "3       0\n",
              "4       0\n",
              "       ..\n",
              "1020    1\n",
              "1021    0\n",
              "1022    0\n",
              "1023    1\n",
              "1024    0\n",
              "Name: target, Length: 1025, dtype: int64"
            ]
          },
          "metadata": {
            "tags": []
          },
          "execution_count": 10
        }
      ]
    },
    {
      "cell_type": "code",
      "metadata": {
        "colab": {
          "base_uri": "https://localhost:8080/"
        },
        "id": "Sx_AS90AFnPX",
        "outputId": "d3539c38-c0b5-4fca-80fc-ce312cf913ca"
      },
      "source": [
        "#get number of people with heart disease and with no heart disease,\n",
        "#grouping all true values and ones values\n",
        "df.groupby('target').size()"
      ],
      "execution_count": null,
      "outputs": [
        {
          "output_type": "execute_result",
          "data": {
            "text/plain": [
              "target\n",
              "0    499\n",
              "1    526\n",
              "dtype: int64"
            ]
          },
          "metadata": {
            "tags": []
          },
          "execution_count": 11
        }
      ]
    },
    {
      "cell_type": "code",
      "metadata": {
        "id": "nWpvmzldFnPY",
        "colab": {
          "base_uri": "https://localhost:8080/",
          "height": 315
        },
        "outputId": "67c8d9ea-c364-4521-cf82-001d1b2b8490"
      },
      "source": [
        "df.describe()"
      ],
      "execution_count": null,
      "outputs": [
        {
          "output_type": "execute_result",
          "data": {
            "text/html": [
              "<div>\n",
              "<style scoped>\n",
              "    .dataframe tbody tr th:only-of-type {\n",
              "        vertical-align: middle;\n",
              "    }\n",
              "\n",
              "    .dataframe tbody tr th {\n",
              "        vertical-align: top;\n",
              "    }\n",
              "\n",
              "    .dataframe thead th {\n",
              "        text-align: right;\n",
              "    }\n",
              "</style>\n",
              "<table border=\"1\" class=\"dataframe\">\n",
              "  <thead>\n",
              "    <tr style=\"text-align: right;\">\n",
              "      <th></th>\n",
              "      <th>age</th>\n",
              "      <th>sex</th>\n",
              "      <th>cp</th>\n",
              "      <th>trestbps</th>\n",
              "      <th>chol</th>\n",
              "      <th>fbs</th>\n",
              "      <th>restecg</th>\n",
              "      <th>thalach</th>\n",
              "      <th>exang</th>\n",
              "      <th>oldpeak</th>\n",
              "      <th>slope</th>\n",
              "      <th>ca</th>\n",
              "      <th>thal</th>\n",
              "      <th>target</th>\n",
              "    </tr>\n",
              "  </thead>\n",
              "  <tbody>\n",
              "    <tr>\n",
              "      <th>count</th>\n",
              "      <td>1025.000000</td>\n",
              "      <td>1025.000000</td>\n",
              "      <td>1025.000000</td>\n",
              "      <td>1025.000000</td>\n",
              "      <td>1025.00000</td>\n",
              "      <td>1025.000000</td>\n",
              "      <td>1025.000000</td>\n",
              "      <td>1025.000000</td>\n",
              "      <td>1025.000000</td>\n",
              "      <td>1025.000000</td>\n",
              "      <td>1025.000000</td>\n",
              "      <td>1025.000000</td>\n",
              "      <td>1025.000000</td>\n",
              "      <td>1025.000000</td>\n",
              "    </tr>\n",
              "    <tr>\n",
              "      <th>mean</th>\n",
              "      <td>54.434146</td>\n",
              "      <td>0.695610</td>\n",
              "      <td>0.942439</td>\n",
              "      <td>131.611707</td>\n",
              "      <td>246.00000</td>\n",
              "      <td>0.149268</td>\n",
              "      <td>0.529756</td>\n",
              "      <td>149.114146</td>\n",
              "      <td>0.336585</td>\n",
              "      <td>1.071512</td>\n",
              "      <td>1.385366</td>\n",
              "      <td>0.754146</td>\n",
              "      <td>2.323902</td>\n",
              "      <td>0.513171</td>\n",
              "    </tr>\n",
              "    <tr>\n",
              "      <th>std</th>\n",
              "      <td>9.072290</td>\n",
              "      <td>0.460373</td>\n",
              "      <td>1.029641</td>\n",
              "      <td>17.516718</td>\n",
              "      <td>51.59251</td>\n",
              "      <td>0.356527</td>\n",
              "      <td>0.527878</td>\n",
              "      <td>23.005724</td>\n",
              "      <td>0.472772</td>\n",
              "      <td>1.175053</td>\n",
              "      <td>0.617755</td>\n",
              "      <td>1.030798</td>\n",
              "      <td>0.620660</td>\n",
              "      <td>0.500070</td>\n",
              "    </tr>\n",
              "    <tr>\n",
              "      <th>min</th>\n",
              "      <td>29.000000</td>\n",
              "      <td>0.000000</td>\n",
              "      <td>0.000000</td>\n",
              "      <td>94.000000</td>\n",
              "      <td>126.00000</td>\n",
              "      <td>0.000000</td>\n",
              "      <td>0.000000</td>\n",
              "      <td>71.000000</td>\n",
              "      <td>0.000000</td>\n",
              "      <td>0.000000</td>\n",
              "      <td>0.000000</td>\n",
              "      <td>0.000000</td>\n",
              "      <td>0.000000</td>\n",
              "      <td>0.000000</td>\n",
              "    </tr>\n",
              "    <tr>\n",
              "      <th>25%</th>\n",
              "      <td>48.000000</td>\n",
              "      <td>0.000000</td>\n",
              "      <td>0.000000</td>\n",
              "      <td>120.000000</td>\n",
              "      <td>211.00000</td>\n",
              "      <td>0.000000</td>\n",
              "      <td>0.000000</td>\n",
              "      <td>132.000000</td>\n",
              "      <td>0.000000</td>\n",
              "      <td>0.000000</td>\n",
              "      <td>1.000000</td>\n",
              "      <td>0.000000</td>\n",
              "      <td>2.000000</td>\n",
              "      <td>0.000000</td>\n",
              "    </tr>\n",
              "    <tr>\n",
              "      <th>50%</th>\n",
              "      <td>56.000000</td>\n",
              "      <td>1.000000</td>\n",
              "      <td>1.000000</td>\n",
              "      <td>130.000000</td>\n",
              "      <td>240.00000</td>\n",
              "      <td>0.000000</td>\n",
              "      <td>1.000000</td>\n",
              "      <td>152.000000</td>\n",
              "      <td>0.000000</td>\n",
              "      <td>0.800000</td>\n",
              "      <td>1.000000</td>\n",
              "      <td>0.000000</td>\n",
              "      <td>2.000000</td>\n",
              "      <td>1.000000</td>\n",
              "    </tr>\n",
              "    <tr>\n",
              "      <th>75%</th>\n",
              "      <td>61.000000</td>\n",
              "      <td>1.000000</td>\n",
              "      <td>2.000000</td>\n",
              "      <td>140.000000</td>\n",
              "      <td>275.00000</td>\n",
              "      <td>0.000000</td>\n",
              "      <td>1.000000</td>\n",
              "      <td>166.000000</td>\n",
              "      <td>1.000000</td>\n",
              "      <td>1.800000</td>\n",
              "      <td>2.000000</td>\n",
              "      <td>1.000000</td>\n",
              "      <td>3.000000</td>\n",
              "      <td>1.000000</td>\n",
              "    </tr>\n",
              "    <tr>\n",
              "      <th>max</th>\n",
              "      <td>77.000000</td>\n",
              "      <td>1.000000</td>\n",
              "      <td>3.000000</td>\n",
              "      <td>200.000000</td>\n",
              "      <td>564.00000</td>\n",
              "      <td>1.000000</td>\n",
              "      <td>2.000000</td>\n",
              "      <td>202.000000</td>\n",
              "      <td>1.000000</td>\n",
              "      <td>6.200000</td>\n",
              "      <td>2.000000</td>\n",
              "      <td>4.000000</td>\n",
              "      <td>3.000000</td>\n",
              "      <td>1.000000</td>\n",
              "    </tr>\n",
              "  </tbody>\n",
              "</table>\n",
              "</div>"
            ],
            "text/plain": [
              "               age          sex  ...         thal       target\n",
              "count  1025.000000  1025.000000  ...  1025.000000  1025.000000\n",
              "mean     54.434146     0.695610  ...     2.323902     0.513171\n",
              "std       9.072290     0.460373  ...     0.620660     0.500070\n",
              "min      29.000000     0.000000  ...     0.000000     0.000000\n",
              "25%      48.000000     0.000000  ...     2.000000     0.000000\n",
              "50%      56.000000     1.000000  ...     2.000000     1.000000\n",
              "75%      61.000000     1.000000  ...     3.000000     1.000000\n",
              "max      77.000000     1.000000  ...     3.000000     1.000000\n",
              "\n",
              "[8 rows x 14 columns]"
            ]
          },
          "metadata": {
            "tags": []
          },
          "execution_count": 12
        }
      ]
    },
    {
      "cell_type": "code",
      "metadata": {
        "colab": {
          "base_uri": "https://localhost:8080/",
          "height": 829
        },
        "id": "tMi-Z-eXFnPZ",
        "outputId": "4a05c0c1-c13f-4a3d-de6a-c82ec1acf0ab"
      },
      "source": [
        "\n",
        "#Visualization using matplotlib\n",
        "df.hist(figsize=(14,14),)\n",
        "plt.show()"
      ],
      "execution_count": null,
      "outputs": [
        {
          "output_type": "display_data",
          "data": {
            "image/png": "[encoded data removed]",
            "text/plain": [
              "<Figure size 1008x1008 with 16 Axes>"
            ]
          },
          "metadata": {
            "tags": [],
            "needs_background": "light"
          }
        }
      ]
    },
    {
      "cell_type": "code",
      "metadata": {
        "id": "pAy0SBUlFnPd",
        "colab": {
          "base_uri": "https://localhost:8080/",
          "height": 400
        },
        "outputId": "9975737f-ac48-4c34-cb42-f416b135c22a"
      },
      "source": [
        "plt.figure(figsize=(16, 6))\n",
        "heatmap = sns.heatmap(df.corr(), vmin=-1, vmax=1, annot=True, cmap='BrBG')\n",
        "heatmap.set_title('Correlation Heatmap', fontdict={'fontsize':18}, pad=12);\n"
      ],
      "execution_count": null,
      "outputs": [
        {
          "output_type": "display_data",
          "data": {
            "image/png": "[encoded data removed]",
            "text/plain": [
              "<Figure size 1152x432 with 2 Axes>"
            ]
          },
          "metadata": {
            "tags": [],
            "needs_background": "light"
          }
        }
      ]
    },
    {
      "cell_type": "code",
      "metadata": {
        "id": "8JMhBoQJFnPf"
      },
      "source": [
        "#About 70% of male are affected by heart dsease as compared to women which is 45%"
      ],
      "execution_count": null,
      "outputs": []
    },
    {
      "cell_type": "code",
      "metadata": {
        "id": "RxTn5wfPFnPg",
        "colab": {
          "base_uri": "https://localhost:8080/",
          "height": 383
        },
        "outputId": "665d2b82-b0eb-4d3e-ba5e-6eb43bbbd13a"
      },
      "source": [
        "sns.barplot(df['sex'],df['age'],hue=df['target'])"
      ],
      "execution_count": null,
      "outputs": [
        {
          "output_type": "stream",
          "text": [
            "/usr/local/lib/python3.7/dist-packages/seaborn/_decorators.py:43: FutureWarning:\n",
            "\n",
            "Pass the following variables as keyword args: x, y. From version 0.12, the only valid positional argument will be `data`, and passing other arguments without an explicit keyword will result in an error or misinterpretation.\n",
            "\n"
          ],
          "name": "stderr"
        },
        {
          "output_type": "execute_result",
          "data": {
            "text/plain": [
              "<matplotlib.axes._subplots.AxesSubplot at 0x7f9b69b3e650>"
            ]
          },
          "metadata": {
            "tags": []
          },
          "execution_count": 14
        },
        {
          "output_type": "display_data",
          "data": {
            "image/png": "[encoded data removed]",
            "text/plain": [
              "<Figure size 432x288 with 1 Axes>"
            ]
          },
          "metadata": {
            "tags": [],
            "needs_background": "light"
          }
        }
      ]
    },
    {
      "cell_type": "code",
      "metadata": {
        "id": "lKjEI34yPaJw",
        "colab": {
          "base_uri": "https://localhost:8080/",
          "height": 296
        },
        "outputId": "20ea0430-eaa1-46f7-98a7-0e640ec3a2b8"
      },
      "source": [
        "#Box Plot\n",
        "sns.boxplot(x='sex',y='age',hue='target',data=df)"
      ],
      "execution_count": null,
      "outputs": [
        {
          "output_type": "execute_result",
          "data": {
            "text/plain": [
              "<matplotlib.axes._subplots.AxesSubplot at 0x7f9b69dd1d90>"
            ]
          },
          "metadata": {
            "tags": []
          },
          "execution_count": 15
        },
        {
          "output_type": "display_data",
          "data": {
            "image/png": "[encoded data removed]",
            "text/plain": [
              "<Figure size 432x288 with 1 Axes>"
            ]
          },
          "metadata": {
            "tags": [],
            "needs_background": "light"
          }
        }
      ]
    },
    {
      "cell_type": "code",
      "metadata": {
        "id": "mG76RosfQ9Ix",
        "colab": {
          "base_uri": "https://localhost:8080/",
          "height": 296
        },
        "outputId": "32a22e24-1ebb-40ec-dda3-d7ee4adeecb8"
      },
      "source": [
        "#Violine plot \n",
        "sns.violinplot(x='sex',y='age',hue='target',data=df)"
      ],
      "execution_count": null,
      "outputs": [
        {
          "output_type": "execute_result",
          "data": {
            "text/plain": [
              "<matplotlib.axes._subplots.AxesSubplot at 0x7f9b69b6ce10>"
            ]
          },
          "metadata": {
            "tags": []
          },
          "execution_count": 16
        },
        {
          "output_type": "display_data",
          "data": {
            "image/png": "[encoded data removed]",
            "text/plain": [
              "<Figure size 432x288 with 1 Axes>"
            ]
          },
          "metadata": {
            "tags": [],
            "needs_background": "light"
          }
        }
      ]
    },
    {
      "cell_type": "code",
      "metadata": {
        "id": "bCGMBmxrEY3U"
      },
      "source": [
        ""
      ],
      "execution_count": null,
      "outputs": []
    },
    {
      "cell_type": "markdown",
      "metadata": {
        "id": "wekDK1U_FnPg"
      },
      "source": [
        "As we can see women around age of 56-57 have heart disease\n",
        "and men around age of 52-53 have heart disease"
      ]
    },
    {
      "cell_type": "markdown",
      "metadata": {
        "id": "HXuocnxFFnPi"
      },
      "source": [
        "Step 3- Preprocessing"
      ]
    },
    {
      "cell_type": "markdown",
      "metadata": {
        "id": "a3kLX3QpFnPj"
      },
      "source": [
        "store values in x and y loc is used to call df values by names we will store all features in x and target in y\n",
        "We want all the rows and columns ending thal"
      ]
    },
    {
      "cell_type": "code",
      "metadata": {
        "id": "hob9ChT1FnPk"
      },
      "source": [
        "x,y = df.loc[:,:'thal'],df['target']"
      ],
      "execution_count": null,
      "outputs": []
    },
    {
      "cell_type": "markdown",
      "metadata": {
        "id": "bq9B_U1nFnPl"
      },
      "source": [
        "Now, let us check and y"
      ]
    },
    {
      "cell_type": "code",
      "metadata": {
        "id": "gpEbxQVIFnPl",
        "colab": {
          "base_uri": "https://localhost:8080/",
          "height": 417
        },
        "outputId": "cc589053-11fd-46f7-9bed-a0e30ad1b13a"
      },
      "source": [
        "x"
      ],
      "execution_count": null,
      "outputs": [
        {
          "output_type": "execute_result",
          "data": {
            "text/html": [
              "<div>\n",
              "<style scoped>\n",
              "    .dataframe tbody tr th:only-of-type {\n",
              "        vertical-align: middle;\n",
              "    }\n",
              "\n",
              "    .dataframe tbody tr th {\n",
              "        vertical-align: top;\n",
              "    }\n",
              "\n",
              "    .dataframe thead th {\n",
              "        text-align: right;\n",
              "    }\n",
              "</style>\n",
              "<table border=\"1\" class=\"dataframe\">\n",
              "  <thead>\n",
              "    <tr style=\"text-align: right;\">\n",
              "      <th></th>\n",
              "      <th>age</th>\n",
              "      <th>sex</th>\n",
              "      <th>cp</th>\n",
              "      <th>trestbps</th>\n",
              "      <th>chol</th>\n",
              "      <th>fbs</th>\n",
              "      <th>restecg</th>\n",
              "      <th>thalach</th>\n",
              "      <th>exang</th>\n",
              "      <th>oldpeak</th>\n",
              "      <th>slope</th>\n",
              "      <th>ca</th>\n",
              "      <th>thal</th>\n",
              "    </tr>\n",
              "  </thead>\n",
              "  <tbody>\n",
              "    <tr>\n",
              "      <th>0</th>\n",
              "      <td>52</td>\n",
              "      <td>1</td>\n",
              "      <td>0</td>\n",
              "      <td>125</td>\n",
              "      <td>212</td>\n",
              "      <td>0</td>\n",
              "      <td>1</td>\n",
              "      <td>168</td>\n",
              "      <td>0</td>\n",
              "      <td>1.0</td>\n",
              "      <td>2</td>\n",
              "      <td>2</td>\n",
              "      <td>3</td>\n",
              "    </tr>\n",
              "    <tr>\n",
              "      <th>1</th>\n",
              "      <td>53</td>\n",
              "      <td>1</td>\n",
              "      <td>0</td>\n",
              "      <td>140</td>\n",
              "      <td>203</td>\n",
              "      <td>1</td>\n",
              "      <td>0</td>\n",
              "      <td>155</td>\n",
              "      <td>1</td>\n",
              "      <td>3.1</td>\n",
              "      <td>0</td>\n",
              "      <td>0</td>\n",
              "      <td>3</td>\n",
              "    </tr>\n",
              "    <tr>\n",
              "      <th>2</th>\n",
              "      <td>70</td>\n",
              "      <td>1</td>\n",
              "      <td>0</td>\n",
              "      <td>145</td>\n",
              "      <td>174</td>\n",
              "      <td>0</td>\n",
              "      <td>1</td>\n",
              "      <td>125</td>\n",
              "      <td>1</td>\n",
              "      <td>2.6</td>\n",
              "      <td>0</td>\n",
              "      <td>0</td>\n",
              "      <td>3</td>\n",
              "    </tr>\n",
              "    <tr>\n",
              "      <th>3</th>\n",
              "      <td>61</td>\n",
              "      <td>1</td>\n",
              "      <td>0</td>\n",
              "      <td>148</td>\n",
              "      <td>203</td>\n",
              "      <td>0</td>\n",
              "      <td>1</td>\n",
              "      <td>161</td>\n",
              "      <td>0</td>\n",
              "      <td>0.0</td>\n",
              "      <td>2</td>\n",
              "      <td>1</td>\n",
              "      <td>3</td>\n",
              "    </tr>\n",
              "    <tr>\n",
              "      <th>4</th>\n",
              "      <td>62</td>\n",
              "      <td>0</td>\n",
              "      <td>0</td>\n",
              "      <td>138</td>\n",
              "      <td>294</td>\n",
              "      <td>1</td>\n",
              "      <td>1</td>\n",
              "      <td>106</td>\n",
              "      <td>0</td>\n",
              "      <td>1.9</td>\n",
              "      <td>1</td>\n",
              "      <td>3</td>\n",
              "      <td>2</td>\n",
              "    </tr>\n",
              "    <tr>\n",
              "      <th>...</th>\n",
              "      <td>...</td>\n",
              "      <td>...</td>\n",
              "      <td>...</td>\n",
              "      <td>...</td>\n",
              "      <td>...</td>\n",
              "      <td>...</td>\n",
              "      <td>...</td>\n",
              "      <td>...</td>\n",
              "      <td>...</td>\n",
              "      <td>...</td>\n",
              "      <td>...</td>\n",
              "      <td>...</td>\n",
              "      <td>...</td>\n",
              "    </tr>\n",
              "    <tr>\n",
              "      <th>1020</th>\n",
              "      <td>59</td>\n",
              "      <td>1</td>\n",
              "      <td>1</td>\n",
              "      <td>140</td>\n",
              "      <td>221</td>\n",
              "      <td>0</td>\n",
              "      <td>1</td>\n",
              "      <td>164</td>\n",
              "      <td>1</td>\n",
              "      <td>0.0</td>\n",
              "      <td>2</td>\n",
              "      <td>0</td>\n",
              "      <td>2</td>\n",
              "    </tr>\n",
              "    <tr>\n",
              "      <th>1021</th>\n",
              "      <td>60</td>\n",
              "      <td>1</td>\n",
              "      <td>0</td>\n",
              "      <td>125</td>\n",
              "      <td>258</td>\n",
              "      <td>0</td>\n",
              "      <td>0</td>\n",
              "      <td>141</td>\n",
              "      <td>1</td>\n",
              "      <td>2.8</td>\n",
              "      <td>1</td>\n",
              "      <td>1</td>\n",
              "      <td>3</td>\n",
              "    </tr>\n",
              "    <tr>\n",
              "      <th>1022</th>\n",
              "      <td>47</td>\n",
              "      <td>1</td>\n",
              "      <td>0</td>\n",
              "      <td>110</td>\n",
              "      <td>275</td>\n",
              "      <td>0</td>\n",
              "      <td>0</td>\n",
              "      <td>118</td>\n",
              "      <td>1</td>\n",
              "      <td>1.0</td>\n",
              "      <td>1</td>\n",
              "      <td>1</td>\n",
              "      <td>2</td>\n",
              "    </tr>\n",
              "    <tr>\n",
              "      <th>1023</th>\n",
              "      <td>50</td>\n",
              "      <td>0</td>\n",
              "      <td>0</td>\n",
              "      <td>110</td>\n",
              "      <td>254</td>\n",
              "      <td>0</td>\n",
              "      <td>0</td>\n",
              "      <td>159</td>\n",
              "      <td>0</td>\n",
              "      <td>0.0</td>\n",
              "      <td>2</td>\n",
              "      <td>0</td>\n",
              "      <td>2</td>\n",
              "    </tr>\n",
              "    <tr>\n",
              "      <th>1024</th>\n",
              "      <td>54</td>\n",
              "      <td>1</td>\n",
              "      <td>0</td>\n",
              "      <td>120</td>\n",
              "      <td>188</td>\n",
              "      <td>0</td>\n",
              "      <td>1</td>\n",
              "      <td>113</td>\n",
              "      <td>0</td>\n",
              "      <td>1.4</td>\n",
              "      <td>1</td>\n",
              "      <td>1</td>\n",
              "      <td>3</td>\n",
              "    </tr>\n",
              "  </tbody>\n",
              "</table>\n",
              "<p>1025 rows × 13 columns</p>\n",
              "</div>"
            ],
            "text/plain": [
              "      age  sex  cp  trestbps  chol  ...  exang  oldpeak  slope  ca  thal\n",
              "0      52    1   0       125   212  ...      0      1.0      2   2     3\n",
              "1      53    1   0       140   203  ...      1      3.1      0   0     3\n",
              "2      70    1   0       145   174  ...      1      2.6      0   0     3\n",
              "3      61    1   0       148   203  ...      0      0.0      2   1     3\n",
              "4      62    0   0       138   294  ...      0      1.9      1   3     2\n",
              "...   ...  ...  ..       ...   ...  ...    ...      ...    ...  ..   ...\n",
              "1020   59    1   1       140   221  ...      1      0.0      2   0     2\n",
              "1021   60    1   0       125   258  ...      1      2.8      1   1     3\n",
              "1022   47    1   0       110   275  ...      1      1.0      1   1     2\n",
              "1023   50    0   0       110   254  ...      0      0.0      2   0     2\n",
              "1024   54    1   0       120   188  ...      0      1.4      1   1     3\n",
              "\n",
              "[1025 rows x 13 columns]"
            ]
          },
          "metadata": {
            "tags": []
          },
          "execution_count": 18
        }
      ]
    },
    {
      "cell_type": "code",
      "metadata": {
        "id": "rjj6R-bDFnPm",
        "colab": {
          "base_uri": "https://localhost:8080/"
        },
        "outputId": "b602b78b-45c1-405d-d313-89bb7b2e335b"
      },
      "source": [
        "y"
      ],
      "execution_count": null,
      "outputs": [
        {
          "output_type": "execute_result",
          "data": {
            "text/plain": [
              "0       0\n",
              "1       0\n",
              "2       0\n",
              "3       0\n",
              "4       0\n",
              "       ..\n",
              "1020    1\n",
              "1021    0\n",
              "1022    0\n",
              "1023    1\n",
              "1024    0\n",
              "Name: target, Length: 1025, dtype: int64"
            ]
          },
          "metadata": {
            "tags": []
          },
          "execution_count": 19
        }
      ]
    },
    {
      "cell_type": "markdown",
      "metadata": {
        "id": "pboNx85pFnPn"
      },
      "source": [
        "Now,split data for training"
      ]
    },
    {
      "cell_type": "code",
      "metadata": {
        "id": "TYCn5S5zFnPn",
        "colab": {
          "base_uri": "https://localhost:8080/"
        },
        "outputId": "92e36252-7ed9-4813-fc69-f98b06a375de"
      },
      "source": [
        "\n",
        "\n",
        "x.size"
      ],
      "execution_count": null,
      "outputs": [
        {
          "output_type": "execute_result",
          "data": {
            "text/plain": [
              "13325"
            ]
          },
          "metadata": {
            "tags": []
          },
          "execution_count": 20
        }
      ]
    },
    {
      "cell_type": "code",
      "metadata": {
        "id": "kcBSx0URFnPo",
        "colab": {
          "base_uri": "https://localhost:8080/"
        },
        "outputId": "51daaeb5-1e31-4df8-8220-89a8104b53a1"
      },
      "source": [
        "y.size"
      ],
      "execution_count": null,
      "outputs": [
        {
          "output_type": "execute_result",
          "data": {
            "text/plain": [
              "1025"
            ]
          },
          "metadata": {
            "tags": []
          },
          "execution_count": 21
        }
      ]
    },
    {
      "cell_type": "code",
      "metadata": {
        "id": "5yFIyen5FnPo"
      },
      "source": [
        "from sklearn.model_selection import train_test_split"
      ],
      "execution_count": null,
      "outputs": []
    },
    {
      "cell_type": "code",
      "metadata": {
        "id": "QPX0YjZDFnPp"
      },
      "source": [
        "x_train,x_test,y_train,y_test = (train_test_split(x,y,random_state=20,test_size=0.3,shuffle=True))"
      ],
      "execution_count": null,
      "outputs": []
    },
    {
      "cell_type": "markdown",
      "metadata": {
        "id": "mW2UVN7kFnPq"
      },
      "source": [
        "Let us check difference between x and z train data as we have split the data"
      ]
    },
    {
      "cell_type": "code",
      "metadata": {
        "id": "dSx1VIuiFnPr",
        "colab": {
          "base_uri": "https://localhost:8080/"
        },
        "outputId": "510984c2-1700-4812-a664-6f5f47d2773f"
      },
      "source": [
        "x.shape"
      ],
      "execution_count": null,
      "outputs": [
        {
          "output_type": "execute_result",
          "data": {
            "text/plain": [
              "(1025, 13)"
            ]
          },
          "metadata": {
            "tags": []
          },
          "execution_count": 172
        }
      ]
    },
    {
      "cell_type": "code",
      "metadata": {
        "id": "lEtAlDz_FnPs",
        "colab": {
          "base_uri": "https://localhost:8080/"
        },
        "outputId": "9ed8eb2c-d610-4f64-8dca-6c3f9dc30533"
      },
      "source": [
        "\n",
        "x_train.shape"
      ],
      "execution_count": null,
      "outputs": [
        {
          "output_type": "execute_result",
          "data": {
            "text/plain": [
              "(717, 13)"
            ]
          },
          "metadata": {
            "tags": []
          },
          "execution_count": 173
        }
      ]
    },
    {
      "cell_type": "code",
      "metadata": {
        "id": "W0c33EH_FnPs",
        "colab": {
          "base_uri": "https://localhost:8080/"
        },
        "outputId": "95ff3025-eccb-4a38-836b-0e59036e625d"
      },
      "source": [
        "y.size"
      ],
      "execution_count": null,
      "outputs": [
        {
          "output_type": "execute_result",
          "data": {
            "text/plain": [
              "1025"
            ]
          },
          "metadata": {
            "tags": []
          },
          "execution_count": 174
        }
      ]
    },
    {
      "cell_type": "markdown",
      "metadata": {
        "id": "W3v8dgVXFnPz"
      },
      "source": [
        "y_train.size"
      ]
    },
    {
      "cell_type": "code",
      "metadata": {
        "id": "bdtKe1QaFnP0",
        "colab": {
          "base_uri": "https://localhost:8080/"
        },
        "outputId": "30d89b1e-fde2-4679-d84e-04668a065479"
      },
      "source": [
        "y_test.size"
      ],
      "execution_count": null,
      "outputs": [
        {
          "output_type": "execute_result",
          "data": {
            "text/plain": [
              "308"
            ]
          },
          "metadata": {
            "tags": []
          },
          "execution_count": 175
        }
      ]
    },
    {
      "cell_type": "markdown",
      "metadata": {
        "id": "ibv-23HwFnP1"
      },
      "source": [
        "Step 4 - Prediction"
      ]
    },
    {
      "cell_type": "markdown",
      "metadata": {
        "id": "ohJZAvdcUKRj"
      },
      "source": [
        ""
      ]
    },
    {
      "cell_type": "markdown",
      "metadata": {
        "id": "KZ_K7q0raWrB"
      },
      "source": [
        "\n",
        "# **LOGISTIC REGRESSION**\n",
        "This is model works based on probabilty.\n",
        "\n",
        " The logistic regression model can be derive from \n",
        " linear regression model by applying sigmiod function.\n",
        "\n",
        "y  = b0 + b1*x - Linear model\n",
        "\n",
        "p = 1/(1+e^-y) - Sigmoid function\n",
        "\n",
        "\n",
        "applying  p to y\n",
        "\n",
        "ln(p/1-p) = b0 + b1*x - (Logistical regression model)"
      ]
    },
    {
      "cell_type": "code",
      "metadata": {
        "id": "hn7ugUC7hcDr"
      },
      "source": [
        ""
      ],
      "execution_count": null,
      "outputs": []
    },
    {
      "cell_type": "code",
      "metadata": {
        "id": "Kx9kcdc7oPsU"
      },
      "source": [
        "#feature scailing \n",
        "\n",
        "from sklearn.preprocessing import StandardScaler\n",
        "sc = StandardScaler()\n",
        "x_train = sc.fit_transform(x_train)\n",
        "x_test = sc.transform(x_test)\n"
      ],
      "execution_count": null,
      "outputs": []
    },
    {
      "cell_type": "code",
      "metadata": {
        "colab": {
          "base_uri": "https://localhost:8080/"
        },
        "id": "xLevJx84qh6G",
        "outputId": "b3ef5525-c308-4bf9-9f55-3dea48ff76e9"
      },
      "source": [
        "\n",
        "\n",
        "from sklearn.linear_model import LogisticRegression\n",
        "log_model = LogisticRegression(random_state = 0)\n",
        "log_model.fit(x_train, y_train)"
      ],
      "execution_count": null,
      "outputs": [
        {
          "output_type": "execute_result",
          "data": {
            "text/plain": [
              "LogisticRegression(C=1.0, class_weight=None, dual=False, fit_intercept=True,\n",
              "                   intercept_scaling=1, l1_ratio=None, max_iter=100,\n",
              "                   multi_class='auto', n_jobs=None, penalty='l2',\n",
              "                   random_state=0, solver='lbfgs', tol=0.0001, verbose=0,\n",
              "                   warm_start=False)"
            ]
          },
          "metadata": {
            "tags": []
          },
          "execution_count": 26
        }
      ]
    },
    {
      "cell_type": "code",
      "metadata": {
        "colab": {
          "base_uri": "https://localhost:8080/"
        },
        "id": "lkKjpxf5rHiy",
        "outputId": "cae3d795-113d-44d8-f015-a9cb4ecf5d7b"
      },
      "source": [
        "\n",
        "#predicting\n",
        "log_pred = log_model.predict(x_test)\n",
        "#Confusion metrix\n",
        "from sklearn.metrics import confusion_matrix, accuracy_score,classification_report\n",
        "cm = confusion_matrix(y_test, log_pred)\n",
        "print(cm)\n",
        "log_accurracy = accuracy_score(y_test, log_pred)"
      ],
      "execution_count": null,
      "outputs": [
        {
          "output_type": "stream",
          "text": [
            "[[108  41]\n",
            " [ 22 137]]\n"
          ],
          "name": "stdout"
        }
      ]
    },
    {
      "cell_type": "code",
      "metadata": {
        "colab": {
          "base_uri": "https://localhost:8080/"
        },
        "id": "LPAScbN3syxz",
        "outputId": "5af86a51-db5a-407e-a0fe-5206f4e3858b"
      },
      "source": [
        "print(classification_report(y_test, log_pred))\n",
        "log_accurracy"
      ],
      "execution_count": null,
      "outputs": [
        {
          "output_type": "stream",
          "text": [
            "              precision    recall  f1-score   support\n",
            "\n",
            "           0       0.83      0.72      0.77       149\n",
            "           1       0.77      0.86      0.81       159\n",
            "\n",
            "    accuracy                           0.80       308\n",
            "   macro avg       0.80      0.79      0.79       308\n",
            "weighted avg       0.80      0.80      0.79       308\n",
            "\n"
          ],
          "name": "stdout"
        },
        {
          "output_type": "execute_result",
          "data": {
            "text/plain": [
              "0.7954545454545454"
            ]
          },
          "metadata": {
            "tags": []
          },
          "execution_count": 29
        }
      ]
    },
    {
      "cell_type": "code",
      "metadata": {
        "colab": {
          "base_uri": "https://localhost:8080/"
        },
        "id": "f-HsQetvrp_W",
        "outputId": "8058eaf4-12e9-4140-82b8-1e9b4a0c24eb"
      },
      "source": [
        "#K-Fold cross validation\n",
        "#k =10\n",
        "from sklearn.model_selection import cross_val_score\n",
        "cross_val_score(log_model, x_test, y_test, cv = 10).mean()\n"
      ],
      "execution_count": null,
      "outputs": [
        {
          "output_type": "execute_result",
          "data": {
            "text/plain": [
              "0.8216129032258065"
            ]
          },
          "metadata": {
            "tags": []
          },
          "execution_count": 32
        }
      ]
    },
    {
      "cell_type": "code",
      "metadata": {
        "id": "zchSMUvaut3P"
      },
      "source": [
        "#XG BOOST"
      ],
      "execution_count": null,
      "outputs": []
    },
    {
      "cell_type": "markdown",
      "metadata": {
        "id": "YRk17VGzv3Rb"
      },
      "source": [
        "XG BOOST is used for increasing the performance of model. "
      ]
    },
    {
      "cell_type": "markdown",
      "metadata": {
        "id": "KcWdjCLPNJ0P"
      },
      "source": [
        "# XG BOOST"
      ]
    },
    {
      "cell_type": "markdown",
      "metadata": {
        "id": "2kZZwJ3tv2Vl"
      },
      "source": [
        ""
      ]
    },
    {
      "cell_type": "code",
      "metadata": {
        "id": "_NbPHUoiuw1B"
      },
      "source": [
        "#Importing xg boost\n",
        "from xgboost import XGBClassifier\n",
        "import xgboost as xgb\n",
        "xglog_model = XGBClassifier().fit(x_train, y_train)"
      ],
      "execution_count": null,
      "outputs": []
    },
    {
      "cell_type": "code",
      "metadata": {
        "colab": {
          "base_uri": "https://localhost:8080/"
        },
        "id": "gswNDZgrvND0",
        "outputId": "b66ea534-a41c-4436-bc60-854fe42906ff"
      },
      "source": [
        "#predicting XG appllied logistic model\n",
        "xglog_model_pred = xglog_model.predict(x_test)\n",
        "accuracy_score(y_test, xglog_model_pred)"
      ],
      "execution_count": null,
      "outputs": [
        {
          "output_type": "execute_result",
          "data": {
            "text/plain": [
              "0.9090909090909091"
            ]
          },
          "metadata": {
            "tags": []
          },
          "execution_count": 34
        }
      ]
    },
    {
      "cell_type": "code",
      "metadata": {
        "id": "bUDLLNTkvfj7",
        "colab": {
          "base_uri": "https://localhost:8080/"
        },
        "outputId": "d0ceb97f-89e8-4694-b588-3b0a879cc3ea"
      },
      "source": [
        "#Confusion metrix\n",
        "print (confusion_matrix(y_test, xglog_model_pred))"
      ],
      "execution_count": null,
      "outputs": [
        {
          "output_type": "stream",
          "text": [
            "[[132  17]\n",
            " [ 11 148]]\n"
          ],
          "name": "stdout"
        }
      ]
    },
    {
      "cell_type": "code",
      "metadata": {
        "id": "TkFDQ0UZxNYX",
        "colab": {
          "base_uri": "https://localhost:8080/"
        },
        "outputId": "12899080-7e31-461b-ba27-bdc9d564ec24"
      },
      "source": [
        "print(classification_report(y_test, xglog_model_pred))"
      ],
      "execution_count": null,
      "outputs": [
        {
          "output_type": "stream",
          "text": [
            "              precision    recall  f1-score   support\n",
            "\n",
            "           0       0.92      0.89      0.90       149\n",
            "           1       0.90      0.93      0.91       159\n",
            "\n",
            "    accuracy                           0.91       308\n",
            "   macro avg       0.91      0.91      0.91       308\n",
            "weighted avg       0.91      0.91      0.91       308\n",
            "\n"
          ],
          "name": "stdout"
        }
      ]
    },
    {
      "cell_type": "markdown",
      "metadata": {
        "id": "fvRu3wHjFnP2"
      },
      "source": [
        "By Decision Tree Classifier - An algorithm A decision tree is a flowchart-like structure in which each internal node represents a test on a feature (e.g. whether a coin flip comes up heads or tails) \n",
        "Analysis patterns of the dataset,after training recognise it"
      ]
    },
    {
      "cell_type": "markdown",
      "metadata": {
        "id": "37YRMgFQM2Fs"
      },
      "source": [
        "# DECISION TREE CLASSIFIER"
      ]
    },
    {
      "cell_type": "code",
      "metadata": {
        "id": "q_UwIEPZFnP4"
      },
      "source": [
        "from sklearn.tree import DecisionTreeClassifier\n"
      ],
      "execution_count": null,
      "outputs": []
    },
    {
      "cell_type": "markdown",
      "metadata": {
        "id": "CN7criHbFnP4"
      },
      "source": [
        "Named our model as dm, fit on data"
      ]
    },
    {
      "cell_type": "code",
      "metadata": {
        "id": "xvXPIzXPFnP7"
      },
      "source": [
        "dm = DecisionTreeClassifier()"
      ],
      "execution_count": null,
      "outputs": []
    },
    {
      "cell_type": "code",
      "metadata": {
        "colab": {
          "base_uri": "https://localhost:8080/"
        },
        "id": "ukhLhj4kFnP_",
        "outputId": "930b32ac-e1b8-4ef7-ec0d-fae24c03e32f"
      },
      "source": [
        "dm.fit(x_train,y_train)"
      ],
      "execution_count": null,
      "outputs": [
        {
          "output_type": "execute_result",
          "data": {
            "text/plain": [
              "DecisionTreeClassifier(ccp_alpha=0.0, class_weight=None, criterion='gini',\n",
              "                       max_depth=None, max_features=None, max_leaf_nodes=None,\n",
              "                       min_impurity_decrease=0.0, min_impurity_split=None,\n",
              "                       min_samples_leaf=1, min_samples_split=2,\n",
              "                       min_weight_fraction_leaf=0.0, presort='deprecated',\n",
              "                       random_state=None, splitter='best')"
            ]
          },
          "metadata": {
            "tags": []
          },
          "execution_count": 59
        }
      ]
    },
    {
      "cell_type": "markdown",
      "metadata": {
        "id": "kEqtMRqSFnQE"
      },
      "source": [
        "predict on x_test"
      ]
    },
    {
      "cell_type": "code",
      "metadata": {
        "id": "qXROH3plFnQE",
        "colab": {
          "base_uri": "https://localhost:8080/",
          "height": 417
        },
        "outputId": "d40494d5-7335-4368-f24c-a22899b3a8e7"
      },
      "source": [
        "x_test"
      ],
      "execution_count": null,
      "outputs": [
        {
          "output_type": "execute_result",
          "data": {
            "text/html": [
              "<div>\n",
              "<style scoped>\n",
              "    .dataframe tbody tr th:only-of-type {\n",
              "        vertical-align: middle;\n",
              "    }\n",
              "\n",
              "    .dataframe tbody tr th {\n",
              "        vertical-align: top;\n",
              "    }\n",
              "\n",
              "    .dataframe thead th {\n",
              "        text-align: right;\n",
              "    }\n",
              "</style>\n",
              "<table border=\"1\" class=\"dataframe\">\n",
              "  <thead>\n",
              "    <tr style=\"text-align: right;\">\n",
              "      <th></th>\n",
              "      <th>age</th>\n",
              "      <th>sex</th>\n",
              "      <th>cp</th>\n",
              "      <th>trestbps</th>\n",
              "      <th>chol</th>\n",
              "      <th>fbs</th>\n",
              "      <th>restecg</th>\n",
              "      <th>thalach</th>\n",
              "      <th>exang</th>\n",
              "      <th>oldpeak</th>\n",
              "      <th>slope</th>\n",
              "      <th>ca</th>\n",
              "      <th>thal</th>\n",
              "    </tr>\n",
              "  </thead>\n",
              "  <tbody>\n",
              "    <tr>\n",
              "      <th>1021</th>\n",
              "      <td>60</td>\n",
              "      <td>1</td>\n",
              "      <td>0</td>\n",
              "      <td>125</td>\n",
              "      <td>258</td>\n",
              "      <td>0</td>\n",
              "      <td>0</td>\n",
              "      <td>141</td>\n",
              "      <td>1</td>\n",
              "      <td>2.8</td>\n",
              "      <td>1</td>\n",
              "      <td>1</td>\n",
              "      <td>3</td>\n",
              "    </tr>\n",
              "    <tr>\n",
              "      <th>58</th>\n",
              "      <td>67</td>\n",
              "      <td>1</td>\n",
              "      <td>2</td>\n",
              "      <td>152</td>\n",
              "      <td>212</td>\n",
              "      <td>0</td>\n",
              "      <td>0</td>\n",
              "      <td>150</td>\n",
              "      <td>0</td>\n",
              "      <td>0.8</td>\n",
              "      <td>1</td>\n",
              "      <td>0</td>\n",
              "      <td>3</td>\n",
              "    </tr>\n",
              "    <tr>\n",
              "      <th>62</th>\n",
              "      <td>67</td>\n",
              "      <td>1</td>\n",
              "      <td>0</td>\n",
              "      <td>100</td>\n",
              "      <td>299</td>\n",
              "      <td>0</td>\n",
              "      <td>0</td>\n",
              "      <td>125</td>\n",
              "      <td>1</td>\n",
              "      <td>0.9</td>\n",
              "      <td>1</td>\n",
              "      <td>2</td>\n",
              "      <td>2</td>\n",
              "    </tr>\n",
              "    <tr>\n",
              "      <th>121</th>\n",
              "      <td>44</td>\n",
              "      <td>1</td>\n",
              "      <td>0</td>\n",
              "      <td>120</td>\n",
              "      <td>169</td>\n",
              "      <td>0</td>\n",
              "      <td>1</td>\n",
              "      <td>144</td>\n",
              "      <td>1</td>\n",
              "      <td>2.8</td>\n",
              "      <td>0</td>\n",
              "      <td>0</td>\n",
              "      <td>1</td>\n",
              "    </tr>\n",
              "    <tr>\n",
              "      <th>680</th>\n",
              "      <td>42</td>\n",
              "      <td>1</td>\n",
              "      <td>1</td>\n",
              "      <td>120</td>\n",
              "      <td>295</td>\n",
              "      <td>0</td>\n",
              "      <td>1</td>\n",
              "      <td>162</td>\n",
              "      <td>0</td>\n",
              "      <td>0.0</td>\n",
              "      <td>2</td>\n",
              "      <td>0</td>\n",
              "      <td>2</td>\n",
              "    </tr>\n",
              "    <tr>\n",
              "      <th>...</th>\n",
              "      <td>...</td>\n",
              "      <td>...</td>\n",
              "      <td>...</td>\n",
              "      <td>...</td>\n",
              "      <td>...</td>\n",
              "      <td>...</td>\n",
              "      <td>...</td>\n",
              "      <td>...</td>\n",
              "      <td>...</td>\n",
              "      <td>...</td>\n",
              "      <td>...</td>\n",
              "      <td>...</td>\n",
              "      <td>...</td>\n",
              "    </tr>\n",
              "    <tr>\n",
              "      <th>647</th>\n",
              "      <td>64</td>\n",
              "      <td>0</td>\n",
              "      <td>0</td>\n",
              "      <td>130</td>\n",
              "      <td>303</td>\n",
              "      <td>0</td>\n",
              "      <td>1</td>\n",
              "      <td>122</td>\n",
              "      <td>0</td>\n",
              "      <td>2.0</td>\n",
              "      <td>1</td>\n",
              "      <td>2</td>\n",
              "      <td>2</td>\n",
              "    </tr>\n",
              "    <tr>\n",
              "      <th>334</th>\n",
              "      <td>60</td>\n",
              "      <td>1</td>\n",
              "      <td>0</td>\n",
              "      <td>130</td>\n",
              "      <td>206</td>\n",
              "      <td>0</td>\n",
              "      <td>0</td>\n",
              "      <td>132</td>\n",
              "      <td>1</td>\n",
              "      <td>2.4</td>\n",
              "      <td>1</td>\n",
              "      <td>2</td>\n",
              "      <td>3</td>\n",
              "    </tr>\n",
              "    <tr>\n",
              "      <th>261</th>\n",
              "      <td>54</td>\n",
              "      <td>1</td>\n",
              "      <td>2</td>\n",
              "      <td>150</td>\n",
              "      <td>232</td>\n",
              "      <td>0</td>\n",
              "      <td>0</td>\n",
              "      <td>165</td>\n",
              "      <td>0</td>\n",
              "      <td>1.6</td>\n",
              "      <td>2</td>\n",
              "      <td>0</td>\n",
              "      <td>3</td>\n",
              "    </tr>\n",
              "    <tr>\n",
              "      <th>216</th>\n",
              "      <td>65</td>\n",
              "      <td>1</td>\n",
              "      <td>0</td>\n",
              "      <td>135</td>\n",
              "      <td>254</td>\n",
              "      <td>0</td>\n",
              "      <td>0</td>\n",
              "      <td>127</td>\n",
              "      <td>0</td>\n",
              "      <td>2.8</td>\n",
              "      <td>1</td>\n",
              "      <td>1</td>\n",
              "      <td>3</td>\n",
              "    </tr>\n",
              "    <tr>\n",
              "      <th>257</th>\n",
              "      <td>64</td>\n",
              "      <td>0</td>\n",
              "      <td>0</td>\n",
              "      <td>180</td>\n",
              "      <td>325</td>\n",
              "      <td>0</td>\n",
              "      <td>1</td>\n",
              "      <td>154</td>\n",
              "      <td>1</td>\n",
              "      <td>0.0</td>\n",
              "      <td>2</td>\n",
              "      <td>0</td>\n",
              "      <td>2</td>\n",
              "    </tr>\n",
              "  </tbody>\n",
              "</table>\n",
              "<p>308 rows × 13 columns</p>\n",
              "</div>"
            ],
            "text/plain": [
              "      age  sex  cp  trestbps  chol  ...  exang  oldpeak  slope  ca  thal\n",
              "1021   60    1   0       125   258  ...      1      2.8      1   1     3\n",
              "58     67    1   2       152   212  ...      0      0.8      1   0     3\n",
              "62     67    1   0       100   299  ...      1      0.9      1   2     2\n",
              "121    44    1   0       120   169  ...      1      2.8      0   0     1\n",
              "680    42    1   1       120   295  ...      0      0.0      2   0     2\n",
              "...   ...  ...  ..       ...   ...  ...    ...      ...    ...  ..   ...\n",
              "647    64    0   0       130   303  ...      0      2.0      1   2     2\n",
              "334    60    1   0       130   206  ...      1      2.4      1   2     3\n",
              "261    54    1   2       150   232  ...      0      1.6      2   0     3\n",
              "216    65    1   0       135   254  ...      0      2.8      1   1     3\n",
              "257    64    0   0       180   325  ...      1      0.0      2   0     2\n",
              "\n",
              "[308 rows x 13 columns]"
            ]
          },
          "metadata": {
            "tags": []
          },
          "execution_count": 190
        }
      ]
    },
    {
      "cell_type": "code",
      "metadata": {
        "id": "ijifoLa9FnQF",
        "colab": {
          "base_uri": "https://localhost:8080/"
        },
        "outputId": "b56d3a6e-d45e-45a1-ff8d-bfdc9bc29cf8"
      },
      "source": [
        "y_test"
      ],
      "execution_count": null,
      "outputs": [
        {
          "output_type": "execute_result",
          "data": {
            "text/plain": [
              "1021    0\n",
              "58      0\n",
              "62      0\n",
              "121     0\n",
              "680     1\n",
              "       ..\n",
              "647     1\n",
              "334     0\n",
              "261     1\n",
              "216     0\n",
              "257     1\n",
              "Name: target, Length: 308, dtype: int64"
            ]
          },
          "metadata": {
            "tags": []
          },
          "execution_count": 191
        }
      ]
    },
    {
      "cell_type": "code",
      "metadata": {
        "id": "FvwU1IXEFnQI"
      },
      "source": [
        "\n",
        "\n",
        "prediction=dm.predict(x_test)"
      ],
      "execution_count": null,
      "outputs": []
    },
    {
      "cell_type": "code",
      "metadata": {
        "colab": {
          "base_uri": "https://localhost:8080/"
        },
        "id": "Edr4YiwdFnQI",
        "outputId": "b0db1698-1117-408d-db96-6fb1d9d19d55"
      },
      "source": [
        "prediction"
      ],
      "execution_count": null,
      "outputs": [
        {
          "output_type": "execute_result",
          "data": {
            "text/plain": [
              "array([0, 0, 0, 0, 1, 0, 1, 1, 1, 0, 0, 1, 1, 1, 1, 1, 0, 0, 1, 1, 1, 0,\n",
              "       1, 1, 1, 1, 1, 0, 1, 1, 0, 1, 1, 0, 0, 0, 0, 0, 1, 1, 0, 0, 1, 1,\n",
              "       0, 0, 1, 0, 1, 1, 1, 0, 1, 0, 0, 1, 1, 1, 1, 1, 1, 0, 0, 1, 0, 0,\n",
              "       1, 0, 1, 0, 1, 0, 1, 0, 1, 1, 1, 0, 0, 0, 1, 1, 1, 0, 1, 1, 1, 0,\n",
              "       1, 0, 1, 0, 1, 1, 1, 1, 0, 0, 0, 0, 0, 1, 1, 0, 1, 1, 0, 0, 1, 0,\n",
              "       0, 0, 0, 0, 1, 1, 0, 0, 1, 0, 1, 0, 0, 0, 1, 0, 1, 0, 1, 0, 0, 0,\n",
              "       1, 1, 1, 0, 0, 0, 1, 1, 0, 1, 1, 0, 1, 0, 1, 1, 0, 1, 0, 1, 0, 1,\n",
              "       1, 0, 0, 1, 1, 0, 1, 0, 0, 0, 1, 0, 0, 0, 0, 1, 0, 1, 1, 1, 0, 0,\n",
              "       0, 0, 1, 1, 1, 0, 1, 0, 0, 1, 1, 1, 0, 1, 0, 1, 1, 1, 0, 0, 0, 1,\n",
              "       1, 1, 0, 1, 1, 0, 1, 0, 1, 0, 1, 1, 1, 1, 0, 1, 0, 1, 0, 1, 0, 1,\n",
              "       0, 1, 0, 1, 0, 0, 0, 1, 1, 0, 1, 1, 0, 1, 0, 1, 0, 0, 0, 1, 1, 0,\n",
              "       0, 1, 1, 1, 1, 0, 1, 0, 0, 0, 1, 1, 1, 0, 1, 0, 1, 0, 1, 1, 1, 1,\n",
              "       0, 0, 1, 1, 0, 0, 0, 0, 1, 1, 1, 0, 0, 1, 1, 1, 0, 0, 1, 1, 1, 1,\n",
              "       1, 1, 1, 0, 0, 1, 1, 1, 0, 0, 0, 0, 0, 0, 0, 0, 0, 1, 0, 1, 0, 0])"
            ]
          },
          "metadata": {
            "tags": []
          },
          "execution_count": 193
        }
      ]
    },
    {
      "cell_type": "markdown",
      "metadata": {
        "id": "mRvgkLPHFnQQ"
      },
      "source": [
        "Nw,we will find accuracy"
      ]
    },
    {
      "cell_type": "code",
      "metadata": {
        "id": "WUCyk0SPFnQS"
      },
      "source": [
        "from sklearn.metrics import accuracy_score"
      ],
      "execution_count": null,
      "outputs": []
    },
    {
      "cell_type": "code",
      "metadata": {
        "id": "S3C7UxbcFnQU"
      },
      "source": [
        "accuracy_dm = accuracy_score(y_test,prediction) "
      ],
      "execution_count": null,
      "outputs": []
    },
    {
      "cell_type": "code",
      "metadata": {
        "colab": {
          "base_uri": "https://localhost:8080/"
        },
        "id": "PVghp60bFnQf",
        "outputId": "47a540ad-c6e4-488d-dcc4-2bf00b411c5e"
      },
      "source": [
        "accuracy_dm"
      ],
      "execution_count": null,
      "outputs": [
        {
          "output_type": "execute_result",
          "data": {
            "text/plain": [
              "0.9772727272727273"
            ]
          },
          "metadata": {
            "tags": []
          },
          "execution_count": 63
        }
      ]
    },
    {
      "cell_type": "markdown",
      "metadata": {
        "id": "Dtlp6bh1FnQg"
      },
      "source": [
        "Feature importance"
      ]
    },
    {
      "cell_type": "code",
      "metadata": {
        "colab": {
          "base_uri": "https://localhost:8080/",
          "height": 394
        },
        "id": "U4iyShIKFnQk",
        "outputId": "5e028ac1-4755-4b47-8739-60075952bd75"
      },
      "source": [
        "def most_imp_feature(model):\n",
        "    plt.figure(figsize=(8,6))\n",
        "    no_of_features=13\n",
        "    plt.barh(range(no_of_features),model.feature_importances_,align='center')\n",
        "    plt.yticks(np.arange(no_of_features),x)\n",
        "    plt.xlabel(\"feature importance\")\n",
        "    plt.ylabel(\"features of the dataset\")\n",
        "    \n",
        "most_imp_feature(dm)"
      ],
      "execution_count": null,
      "outputs": [
        {
          "output_type": "display_data",
          "data": {
            "image/png": "[encoded data removed]",
            "text/plain": [
              "<Figure size 576x432 with 1 Axes>"
            ]
          },
          "metadata": {
            "tags": [],
            "needs_background": "light"
          }
        }
      ]
    },
    {
      "cell_type": "markdown",
      "metadata": {
        "id": "xw2XuNOGFnQl"
      },
      "source": [
        "**bold text**#The Most import featue is chest pain"
      ]
    },
    {
      "cell_type": "code",
      "metadata": {
        "id": "BrOWCC2JFnQm"
      },
      "source": [
        "Final_prediction=[\"No,You don't have a heart disease\",\"Yes,you are diagnosed with heart disease\"]"
      ],
      "execution_count": null,
      "outputs": []
    },
    {
      "cell_type": "code",
      "metadata": {
        "id": "FifG5HVTFnQn"
      },
      "source": [
        "sample_date_for_predict = np.array([[57,0,0,140,241,1,123,1,0,2,1,0,3]])\n"
      ],
      "execution_count": null,
      "outputs": []
    },
    {
      "cell_type": "code",
      "metadata": {
        "id": "M0sGLFkPFnQo"
      },
      "source": [
        ""
      ],
      "execution_count": null,
      "outputs": []
    },
    {
      "cell_type": "code",
      "metadata": {
        "id": "3tcO11f1FnQp"
      },
      "source": [
        "sample_date_outcome_dm=dm.predict(sample_date_for_predict)\n"
      ],
      "execution_count": null,
      "outputs": []
    },
    {
      "cell_type": "code",
      "metadata": {
        "id": "zxcTrMEoFnQq",
        "colab": {
          "base_uri": "https://localhost:8080/"
        },
        "outputId": "6a281052-e90e-4ba2-8d5b-439f45a0b1b9"
      },
      "source": [
        "sample_date_outcome_dm"
      ],
      "execution_count": null,
      "outputs": [
        {
          "output_type": "execute_result",
          "data": {
            "text/plain": [
              "array([0])"
            ]
          },
          "metadata": {
            "tags": []
          },
          "execution_count": 201
        }
      ]
    },
    {
      "cell_type": "code",
      "metadata": {
        "id": "CuoJ9UK5FnQr",
        "colab": {
          "base_uri": "https://localhost:8080/"
        },
        "outputId": "da818fdf-dd83-4942-880e-7d1400d5abfd"
      },
      "source": [
        "print(Final_prediction[int(sample_date_outcome_dm)])"
      ],
      "execution_count": null,
      "outputs": [
        {
          "output_type": "stream",
          "text": [
            "No,You don't have a heart disease\n"
          ],
          "name": "stdout"
        }
      ]
    },
    {
      "cell_type": "code",
      "metadata": {
        "id": "FghyqOGGFsuQ"
      },
      "source": [
        ""
      ],
      "execution_count": null,
      "outputs": []
    },
    {
      "cell_type": "code",
      "metadata": {
        "id": "7aK3Vo09Fs2W"
      },
      "source": [
        ""
      ],
      "execution_count": null,
      "outputs": []
    },
    {
      "cell_type": "markdown",
      "metadata": {
        "id": "ynaTIdBfFtwy"
      },
      "source": [
        "Random Forest Classifier"
      ]
    },
    {
      "cell_type": "markdown",
      "metadata": {
        "id": "2bCRurgpNCeB"
      },
      "source": [
        "# RANDOM FOREST CLASSIFIER\n"
      ]
    },
    {
      "cell_type": "code",
      "metadata": {
        "id": "WfY9WyxI0W47"
      },
      "source": [
        "from sklearn.ensemble import RandomForestClassifier\n",
        "from sklearn.metrics import roc_curve, auc"
      ],
      "execution_count": null,
      "outputs": []
    },
    {
      "cell_type": "code",
      "metadata": {
        "id": "wm60vc2qFs5e"
      },
      "source": [
        ""
      ],
      "execution_count": null,
      "outputs": []
    },
    {
      "cell_type": "code",
      "metadata": {
        "colab": {
          "base_uri": "https://localhost:8080/"
        },
        "id": "2Vrk8z-QNGgj",
        "outputId": "f73b8980-c313-494b-a507-ef9a19141620"
      },
      "source": [
        "model = RandomForestClassifier(max_depth=5)\n",
        "model.fit(x_train, y_train)"
      ],
      "execution_count": null,
      "outputs": [
        {
          "output_type": "execute_result",
          "data": {
            "text/plain": [
              "RandomForestClassifier(bootstrap=True, ccp_alpha=0.0, class_weight=None,\n",
              "                       criterion='gini', max_depth=5, max_features='auto',\n",
              "                       max_leaf_nodes=None, max_samples=None,\n",
              "                       min_impurity_decrease=0.0, min_impurity_split=None,\n",
              "                       min_samples_leaf=1, min_samples_split=2,\n",
              "                       min_weight_fraction_leaf=0.0, n_estimators=100,\n",
              "                       n_jobs=None, oob_score=False, random_state=None,\n",
              "                       verbose=0, warm_start=False)"
            ]
          },
          "metadata": {
            "tags": []
          },
          "execution_count": 39
        }
      ]
    },
    {
      "cell_type": "code",
      "metadata": {
        "colab": {
          "base_uri": "https://localhost:8080/"
        },
        "id": "ONc7Z0U8Fs8U",
        "outputId": "7cbd05ae-d15c-4184-bb8b-b11368e9709e"
      },
      "source": [
        "random_forest = RandomForestClassifier(max_depth=5)\n",
        "random_forest.fit(x_train, y_train)"
      ],
      "execution_count": null,
      "outputs": [
        {
          "output_type": "execute_result",
          "data": {
            "text/plain": [
              "RandomForestClassifier(bootstrap=True, ccp_alpha=0.0, class_weight=None,\n",
              "                       criterion='gini', max_depth=5, max_features='auto',\n",
              "                       max_leaf_nodes=None, max_samples=None,\n",
              "                       min_impurity_decrease=0.0, min_impurity_split=None,\n",
              "                       min_samples_leaf=1, min_samples_split=2,\n",
              "                       min_weight_fraction_leaf=0.0, n_estimators=100,\n",
              "                       n_jobs=None, oob_score=False, random_state=None,\n",
              "                       verbose=0, warm_start=False)"
            ]
          },
          "metadata": {
            "tags": []
          },
          "execution_count": 41
        }
      ]
    },
    {
      "cell_type": "code",
      "metadata": {
        "id": "EllQJXiWFs-v"
      },
      "source": [
        "y_predict = random_forest.predict(x_test)"
      ],
      "execution_count": null,
      "outputs": []
    },
    {
      "cell_type": "code",
      "metadata": {
        "colab": {
          "base_uri": "https://localhost:8080/",
          "height": 282
        },
        "id": "sFVxVIOXFtBK",
        "outputId": "dea7b28e-31b3-4f4c-e5cf-c7bd8694f0c0"
      },
      "source": [
        "cm = confusion_matrix(y_test, y_predict)\n",
        "sns.heatmap(cm/np.sum(cm),annot=True,fmt=\".2%\",cmap='Blues')\n",
        "plt.show()\n",
        "ac = accuracy_score(y_test,y_predict)\n",
        "print('Accuracy is: ',ac*100)"
      ],
      "execution_count": null,
      "outputs": [
        {
          "output_type": "display_data",
          "data": {
            "image/png": "[encoded data removed]",
            "text/plain": [
              "<Figure size 432x288 with 2 Axes>"
            ]
          },
          "metadata": {
            "tags": [],
            "needs_background": "light"
          }
        },
        {
          "output_type": "stream",
          "text": [
            "Accuracy is:  89.93506493506493\n"
          ],
          "name": "stdout"
        }
      ]
    },
    {
      "cell_type": "code",
      "metadata": {
        "colab": {
          "base_uri": "https://localhost:8080/",
          "height": 296
        },
        "id": "v_3BZ9baFtES",
        "outputId": "546b769f-98f6-45d9-a7c6-0c3b4c03ae21"
      },
      "source": [
        "y_pred_quant = model.predict_proba(x_test)[:, 1]\n",
        "fpr, tpr, thresholds = roc_curve(y_test, y_pred_quant)\n",
        "\n",
        "fig, ax = plt.subplots()\n",
        "ax.plot(fpr, tpr)\n",
        "ax.plot([0, 1], [0, 1], transform=ax.transAxes, ls=\"--\", c=\".3\")\n",
        "plt.xlim([0.0, 1.0])\n",
        "plt.ylim([0.0, 1.0])\n",
        "plt.rcParams['font.size'] = 12\n",
        "plt.title('ROC curve for diabetes classifier')\n",
        "plt.xlabel('False Positive Rate (1 - Specificity)')\n",
        "plt.ylabel('True Positive Rate (Sensitivity)')\n",
        "plt.grid(True)"
      ],
      "execution_count": null,
      "outputs": [
        {
          "output_type": "display_data",
          "data": {
            "image/png": "[encoded data removed]",
            "text/plain": [
              "<Figure size 432x288 with 1 Axes>"
            ]
          },
          "metadata": {
            "tags": [],
            "needs_background": "light"
          }
        }
      ]
    },
    {
      "cell_type": "markdown",
      "metadata": {
        "id": "0X4gO_TVllEX"
      },
      "source": [
        "# **KNN Classifier**"
      ]
    },
    {
      "cell_type": "code",
      "metadata": {
        "id": "kbDJVXa1lhBx"
      },
      "source": [
        "from sklearn.neighbors import KNeighborsClassifier    # To Train the model\n",
        "from sklearn.model_selection import train_test_split\n",
        "from sklearn import preprocessing, neighbors\n"
      ],
      "execution_count": null,
      "outputs": []
    },
    {
      "cell_type": "code",
      "metadata": {
        "id": "az3r9IEopJh0"
      },
      "source": [
        "y = df['target']\n",
        "x = df.drop([\"target\"],axis = 1)\n",
        "x = preprocessing.scale(x)"
      ],
      "execution_count": null,
      "outputs": []
    },
    {
      "cell_type": "code",
      "metadata": {
        "id": "E5Sh_sbIlhI_"
      },
      "source": [
        "# x_train, x_test, y_train, y_test = train_test_split(x,y, test_size = 0.3)"
      ],
      "execution_count": null,
      "outputs": []
    },
    {
      "cell_type": "code",
      "metadata": {
        "id": "tGzuWTCjGli_"
      },
      "source": [
        "# x_train.shape()"
      ],
      "execution_count": null,
      "outputs": []
    },
    {
      "cell_type": "code",
      "metadata": {
        "colab": {
          "base_uri": "https://localhost:8080/"
        },
        "id": "IKHu6jmylhL4",
        "outputId": "e18446ed-74ba-4dcb-960b-9b40f60b4b20"
      },
      "source": [
        "clf = neighbors.KNeighborsClassifier()\n",
        "clf.fit(x_train,y_train)"
      ],
      "execution_count": null,
      "outputs": [
        {
          "output_type": "execute_result",
          "data": {
            "text/plain": [
              "KNeighborsClassifier(algorithm='auto', leaf_size=30, metric='minkowski',\n",
              "                     metric_params=None, n_jobs=None, n_neighbors=5, p=2,\n",
              "                     weights='uniform')"
            ]
          },
          "metadata": {
            "tags": []
          },
          "execution_count": 49
        }
      ]
    },
    {
      "cell_type": "code",
      "metadata": {
        "id": "IzF9Qw0hGWJh"
      },
      "source": [
        ""
      ],
      "execution_count": null,
      "outputs": []
    },
    {
      "cell_type": "code",
      "metadata": {
        "id": "YRbP9EZrlhPD",
        "colab": {
          "base_uri": "https://localhost:8080/"
        },
        "outputId": "129054f4-94e1-4ca6-f429-c647931752bb"
      },
      "source": [
        "accuracy_knn = clf.score(x_train,y_train)\n",
        "accuracy_knn"
      ],
      "execution_count": null,
      "outputs": [
        {
          "output_type": "execute_result",
          "data": {
            "text/plain": [
              "0.9372384937238494"
            ]
          },
          "metadata": {
            "tags": []
          },
          "execution_count": 51
        }
      ]
    },
    {
      "cell_type": "code",
      "metadata": {
        "colab": {
          "base_uri": "https://localhost:8080/"
        },
        "id": "VXsRewdYlhUT",
        "outputId": "92fe45b0-8993-4186-f040-72c150f1ded1"
      },
      "source": [
        "for x,y in zip(x_test, y_test):\n",
        "  print(f'Predicted Target :{clf.predict([x])[0]},Actual target : {y}')\n"
      ],
      "execution_count": null,
      "outputs": [
        {
          "output_type": "stream",
          "text": [
            "Predicted Target :0,Actual target : 0\n",
            "Predicted Target :0,Actual target : 0\n",
            "Predicted Target :0,Actual target : 0\n",
            "Predicted Target :0,Actual target : 0\n",
            "Predicted Target :1,Actual target : 1\n",
            "Predicted Target :0,Actual target : 0\n",
            "Predicted Target :1,Actual target : 1\n",
            "Predicted Target :0,Actual target : 1\n",
            "Predicted Target :0,Actual target : 1\n",
            "Predicted Target :0,Actual target : 0\n",
            "Predicted Target :0,Actual target : 0\n",
            "Predicted Target :1,Actual target : 1\n",
            "Predicted Target :1,Actual target : 1\n",
            "Predicted Target :0,Actual target : 1\n",
            "Predicted Target :1,Actual target : 1\n",
            "Predicted Target :1,Actual target : 1\n",
            "Predicted Target :0,Actual target : 0\n",
            "Predicted Target :0,Actual target : 0\n",
            "Predicted Target :1,Actual target : 1\n",
            "Predicted Target :1,Actual target : 1\n",
            "Predicted Target :1,Actual target : 1\n",
            "Predicted Target :0,Actual target : 0\n",
            "Predicted Target :1,Actual target : 1\n",
            "Predicted Target :1,Actual target : 1\n",
            "Predicted Target :1,Actual target : 1\n",
            "Predicted Target :1,Actual target : 1\n",
            "Predicted Target :1,Actual target : 1\n",
            "Predicted Target :1,Actual target : 0\n",
            "Predicted Target :1,Actual target : 1\n",
            "Predicted Target :1,Actual target : 1\n",
            "Predicted Target :0,Actual target : 0\n",
            "Predicted Target :1,Actual target : 1\n",
            "Predicted Target :1,Actual target : 1\n",
            "Predicted Target :0,Actual target : 0\n",
            "Predicted Target :0,Actual target : 0\n",
            "Predicted Target :0,Actual target : 0\n",
            "Predicted Target :0,Actual target : 0\n",
            "Predicted Target :1,Actual target : 0\n",
            "Predicted Target :1,Actual target : 1\n",
            "Predicted Target :1,Actual target : 1\n",
            "Predicted Target :0,Actual target : 0\n",
            "Predicted Target :0,Actual target : 0\n",
            "Predicted Target :1,Actual target : 1\n",
            "Predicted Target :0,Actual target : 1\n",
            "Predicted Target :0,Actual target : 0\n",
            "Predicted Target :1,Actual target : 0\n",
            "Predicted Target :1,Actual target : 1\n",
            "Predicted Target :0,Actual target : 0\n",
            "Predicted Target :1,Actual target : 1\n",
            "Predicted Target :1,Actual target : 1\n",
            "Predicted Target :1,Actual target : 1\n",
            "Predicted Target :0,Actual target : 0\n",
            "Predicted Target :0,Actual target : 0\n",
            "Predicted Target :1,Actual target : 0\n",
            "Predicted Target :0,Actual target : 0\n",
            "Predicted Target :1,Actual target : 1\n",
            "Predicted Target :1,Actual target : 1\n",
            "Predicted Target :1,Actual target : 1\n",
            "Predicted Target :0,Actual target : 1\n",
            "Predicted Target :1,Actual target : 1\n",
            "Predicted Target :1,Actual target : 1\n",
            "Predicted Target :1,Actual target : 0\n",
            "Predicted Target :1,Actual target : 0\n",
            "Predicted Target :0,Actual target : 1\n",
            "Predicted Target :1,Actual target : 0\n",
            "Predicted Target :1,Actual target : 0\n",
            "Predicted Target :1,Actual target : 1\n",
            "Predicted Target :0,Actual target : 0\n",
            "Predicted Target :0,Actual target : 1\n",
            "Predicted Target :0,Actual target : 0\n",
            "Predicted Target :1,Actual target : 1\n",
            "Predicted Target :0,Actual target : 0\n",
            "Predicted Target :1,Actual target : 1\n",
            "Predicted Target :0,Actual target : 0\n",
            "Predicted Target :1,Actual target : 1\n",
            "Predicted Target :1,Actual target : 1\n",
            "Predicted Target :1,Actual target : 1\n",
            "Predicted Target :0,Actual target : 0\n",
            "Predicted Target :0,Actual target : 0\n",
            "Predicted Target :0,Actual target : 0\n",
            "Predicted Target :1,Actual target : 1\n",
            "Predicted Target :1,Actual target : 1\n",
            "Predicted Target :1,Actual target : 1\n",
            "Predicted Target :0,Actual target : 0\n",
            "Predicted Target :1,Actual target : 1\n",
            "Predicted Target :1,Actual target : 1\n",
            "Predicted Target :0,Actual target : 1\n",
            "Predicted Target :0,Actual target : 0\n",
            "Predicted Target :1,Actual target : 1\n",
            "Predicted Target :0,Actual target : 0\n",
            "Predicted Target :1,Actual target : 1\n",
            "Predicted Target :0,Actual target : 0\n",
            "Predicted Target :1,Actual target : 1\n",
            "Predicted Target :1,Actual target : 1\n",
            "Predicted Target :1,Actual target : 1\n",
            "Predicted Target :0,Actual target : 1\n",
            "Predicted Target :1,Actual target : 0\n",
            "Predicted Target :0,Actual target : 0\n",
            "Predicted Target :0,Actual target : 0\n",
            "Predicted Target :0,Actual target : 0\n",
            "Predicted Target :0,Actual target : 0\n",
            "Predicted Target :1,Actual target : 1\n",
            "Predicted Target :1,Actual target : 1\n",
            "Predicted Target :0,Actual target : 0\n",
            "Predicted Target :1,Actual target : 1\n",
            "Predicted Target :1,Actual target : 1\n",
            "Predicted Target :0,Actual target : 0\n",
            "Predicted Target :0,Actual target : 0\n",
            "Predicted Target :1,Actual target : 1\n",
            "Predicted Target :0,Actual target : 0\n",
            "Predicted Target :1,Actual target : 0\n",
            "Predicted Target :1,Actual target : 0\n",
            "Predicted Target :0,Actual target : 0\n",
            "Predicted Target :0,Actual target : 0\n",
            "Predicted Target :1,Actual target : 1\n",
            "Predicted Target :1,Actual target : 1\n",
            "Predicted Target :0,Actual target : 0\n",
            "Predicted Target :0,Actual target : 0\n",
            "Predicted Target :1,Actual target : 1\n",
            "Predicted Target :0,Actual target : 0\n",
            "Predicted Target :1,Actual target : 1\n",
            "Predicted Target :0,Actual target : 0\n",
            "Predicted Target :1,Actual target : 0\n",
            "Predicted Target :0,Actual target : 0\n",
            "Predicted Target :1,Actual target : 1\n",
            "Predicted Target :0,Actual target : 0\n",
            "Predicted Target :1,Actual target : 1\n",
            "Predicted Target :0,Actual target : 0\n",
            "Predicted Target :0,Actual target : 1\n",
            "Predicted Target :0,Actual target : 0\n",
            "Predicted Target :0,Actual target : 0\n",
            "Predicted Target :0,Actual target : 0\n",
            "Predicted Target :1,Actual target : 1\n",
            "Predicted Target :1,Actual target : 1\n",
            "Predicted Target :1,Actual target : 1\n",
            "Predicted Target :0,Actual target : 0\n",
            "Predicted Target :0,Actual target : 0\n",
            "Predicted Target :0,Actual target : 0\n",
            "Predicted Target :1,Actual target : 1\n",
            "Predicted Target :1,Actual target : 1\n",
            "Predicted Target :0,Actual target : 0\n",
            "Predicted Target :0,Actual target : 0\n",
            "Predicted Target :1,Actual target : 1\n",
            "Predicted Target :1,Actual target : 0\n",
            "Predicted Target :1,Actual target : 1\n",
            "Predicted Target :0,Actual target : 0\n",
            "Predicted Target :1,Actual target : 1\n",
            "Predicted Target :1,Actual target : 1\n",
            "Predicted Target :0,Actual target : 0\n",
            "Predicted Target :1,Actual target : 1\n",
            "Predicted Target :0,Actual target : 1\n",
            "Predicted Target :1,Actual target : 1\n",
            "Predicted Target :0,Actual target : 0\n",
            "Predicted Target :1,Actual target : 1\n",
            "Predicted Target :1,Actual target : 1\n",
            "Predicted Target :1,Actual target : 0\n",
            "Predicted Target :0,Actual target : 0\n",
            "Predicted Target :1,Actual target : 1\n",
            "Predicted Target :1,Actual target : 1\n",
            "Predicted Target :0,Actual target : 0\n",
            "Predicted Target :1,Actual target : 1\n",
            "Predicted Target :0,Actual target : 0\n",
            "Predicted Target :0,Actual target : 0\n",
            "Predicted Target :0,Actual target : 0\n",
            "Predicted Target :1,Actual target : 1\n",
            "Predicted Target :0,Actual target : 0\n",
            "Predicted Target :0,Actual target : 0\n",
            "Predicted Target :0,Actual target : 0\n",
            "Predicted Target :0,Actual target : 0\n",
            "Predicted Target :0,Actual target : 1\n",
            "Predicted Target :0,Actual target : 0\n",
            "Predicted Target :1,Actual target : 1\n",
            "Predicted Target :1,Actual target : 1\n",
            "Predicted Target :1,Actual target : 1\n",
            "Predicted Target :1,Actual target : 0\n",
            "Predicted Target :1,Actual target : 0\n",
            "Predicted Target :0,Actual target : 0\n",
            "Predicted Target :0,Actual target : 0\n",
            "Predicted Target :1,Actual target : 1\n",
            "Predicted Target :1,Actual target : 1\n",
            "Predicted Target :1,Actual target : 1\n",
            "Predicted Target :0,Actual target : 0\n",
            "Predicted Target :1,Actual target : 1\n",
            "Predicted Target :0,Actual target : 0\n",
            "Predicted Target :0,Actual target : 0\n",
            "Predicted Target :1,Actual target : 1\n",
            "Predicted Target :1,Actual target : 1\n",
            "Predicted Target :0,Actual target : 1\n",
            "Predicted Target :0,Actual target : 0\n",
            "Predicted Target :1,Actual target : 1\n",
            "Predicted Target :0,Actual target : 0\n",
            "Predicted Target :0,Actual target : 1\n",
            "Predicted Target :1,Actual target : 1\n",
            "Predicted Target :0,Actual target : 1\n",
            "Predicted Target :0,Actual target : 0\n",
            "Predicted Target :0,Actual target : 0\n",
            "Predicted Target :0,Actual target : 0\n",
            "Predicted Target :0,Actual target : 1\n",
            "Predicted Target :1,Actual target : 1\n",
            "Predicted Target :1,Actual target : 1\n",
            "Predicted Target :0,Actual target : 0\n",
            "Predicted Target :1,Actual target : 1\n",
            "Predicted Target :0,Actual target : 1\n",
            "Predicted Target :0,Actual target : 0\n",
            "Predicted Target :1,Actual target : 1\n",
            "Predicted Target :1,Actual target : 0\n",
            "Predicted Target :1,Actual target : 1\n",
            "Predicted Target :0,Actual target : 1\n",
            "Predicted Target :1,Actual target : 1\n",
            "Predicted Target :0,Actual target : 0\n",
            "Predicted Target :0,Actual target : 1\n",
            "Predicted Target :1,Actual target : 1\n",
            "Predicted Target :0,Actual target : 0\n",
            "Predicted Target :1,Actual target : 1\n",
            "Predicted Target :0,Actual target : 0\n",
            "Predicted Target :1,Actual target : 1\n",
            "Predicted Target :0,Actual target : 0\n",
            "Predicted Target :1,Actual target : 1\n",
            "Predicted Target :0,Actual target : 0\n",
            "Predicted Target :1,Actual target : 1\n",
            "Predicted Target :1,Actual target : 0\n",
            "Predicted Target :1,Actual target : 1\n",
            "Predicted Target :0,Actual target : 0\n",
            "Predicted Target :1,Actual target : 1\n",
            "Predicted Target :0,Actual target : 0\n",
            "Predicted Target :0,Actual target : 0\n",
            "Predicted Target :0,Actual target : 0\n",
            "Predicted Target :1,Actual target : 1\n",
            "Predicted Target :1,Actual target : 1\n",
            "Predicted Target :0,Actual target : 0\n",
            "Predicted Target :1,Actual target : 1\n",
            "Predicted Target :1,Actual target : 1\n",
            "Predicted Target :1,Actual target : 0\n",
            "Predicted Target :1,Actual target : 1\n",
            "Predicted Target :0,Actual target : 0\n",
            "Predicted Target :1,Actual target : 1\n",
            "Predicted Target :0,Actual target : 0\n",
            "Predicted Target :0,Actual target : 0\n",
            "Predicted Target :1,Actual target : 0\n",
            "Predicted Target :1,Actual target : 1\n",
            "Predicted Target :1,Actual target : 1\n",
            "Predicted Target :0,Actual target : 0\n",
            "Predicted Target :0,Actual target : 0\n",
            "Predicted Target :1,Actual target : 1\n",
            "Predicted Target :1,Actual target : 1\n",
            "Predicted Target :1,Actual target : 1\n",
            "Predicted Target :1,Actual target : 1\n",
            "Predicted Target :0,Actual target : 0\n",
            "Predicted Target :1,Actual target : 1\n",
            "Predicted Target :0,Actual target : 0\n",
            "Predicted Target :1,Actual target : 0\n",
            "Predicted Target :0,Actual target : 0\n",
            "Predicted Target :0,Actual target : 1\n",
            "Predicted Target :1,Actual target : 1\n",
            "Predicted Target :1,Actual target : 1\n",
            "Predicted Target :0,Actual target : 0\n",
            "Predicted Target :1,Actual target : 1\n",
            "Predicted Target :0,Actual target : 0\n",
            "Predicted Target :1,Actual target : 1\n",
            "Predicted Target :0,Actual target : 0\n",
            "Predicted Target :1,Actual target : 1\n",
            "Predicted Target :1,Actual target : 1\n",
            "Predicted Target :1,Actual target : 1\n",
            "Predicted Target :1,Actual target : 1\n",
            "Predicted Target :0,Actual target : 0\n",
            "Predicted Target :0,Actual target : 0\n",
            "Predicted Target :1,Actual target : 1\n",
            "Predicted Target :1,Actual target : 1\n",
            "Predicted Target :0,Actual target : 0\n",
            "Predicted Target :0,Actual target : 0\n",
            "Predicted Target :1,Actual target : 0\n",
            "Predicted Target :0,Actual target : 0\n",
            "Predicted Target :1,Actual target : 1\n",
            "Predicted Target :1,Actual target : 1\n",
            "Predicted Target :0,Actual target : 1\n",
            "Predicted Target :0,Actual target : 0\n",
            "Predicted Target :0,Actual target : 0\n",
            "Predicted Target :0,Actual target : 1\n",
            "Predicted Target :1,Actual target : 1\n",
            "Predicted Target :1,Actual target : 1\n",
            "Predicted Target :0,Actual target : 0\n",
            "Predicted Target :0,Actual target : 0\n",
            "Predicted Target :1,Actual target : 1\n",
            "Predicted Target :1,Actual target : 1\n",
            "Predicted Target :0,Actual target : 1\n",
            "Predicted Target :0,Actual target : 1\n",
            "Predicted Target :1,Actual target : 1\n",
            "Predicted Target :1,Actual target : 1\n",
            "Predicted Target :1,Actual target : 1\n",
            "Predicted Target :0,Actual target : 0\n",
            "Predicted Target :0,Actual target : 0\n",
            "Predicted Target :0,Actual target : 0\n",
            "Predicted Target :1,Actual target : 1\n",
            "Predicted Target :1,Actual target : 1\n",
            "Predicted Target :0,Actual target : 0\n",
            "Predicted Target :0,Actual target : 0\n",
            "Predicted Target :1,Actual target : 0\n",
            "Predicted Target :0,Actual target : 0\n",
            "Predicted Target :0,Actual target : 0\n",
            "Predicted Target :0,Actual target : 0\n",
            "Predicted Target :0,Actual target : 0\n",
            "Predicted Target :0,Actual target : 0\n",
            "Predicted Target :0,Actual target : 0\n",
            "Predicted Target :1,Actual target : 1\n",
            "Predicted Target :0,Actual target : 0\n",
            "Predicted Target :1,Actual target : 1\n",
            "Predicted Target :0,Actual target : 0\n",
            "Predicted Target :0,Actual target : 1\n"
          ],
          "name": "stdout"
        }
      ]
    },
    {
      "cell_type": "markdown",
      "metadata": {
        "id": "mNG0pUckm9Cy"
      },
      "source": [
        "# **(SVM)Support Vector Machine For Classification**"
      ]
    },
    {
      "cell_type": "code",
      "metadata": {
        "id": "S30lEtpRlhV6"
      },
      "source": [
        "# Comparing Knn With SVM classification\n",
        "\n",
        "# importing svm\n",
        "\n",
        "from sklearn import svm "
      ],
      "execution_count": null,
      "outputs": []
    },
    {
      "cell_type": "code",
      "metadata": {
        "id": "R0pjPwuwlhY9",
        "colab": {
          "base_uri": "https://localhost:8080/"
        },
        "outputId": "7d452246-e205-40bc-d7e4-ca6035bee85b"
      },
      "source": [
        "clf_svm = svm.SVC(kernel = \"linear\")\n",
        "clf_svm.fit(x_train, y_train)\n",
        "Accuracy_1 = clf_svm.score(x_train,y_train)\n",
        "Accuracy_1"
      ],
      "execution_count": null,
      "outputs": [
        {
          "output_type": "execute_result",
          "data": {
            "text/plain": [
              "0.8940027894002789"
            ]
          },
          "metadata": {
            "tags": []
          },
          "execution_count": 54
        }
      ]
    },
    {
      "cell_type": "code",
      "metadata": {
        "id": "iugTz3qlnEsd",
        "colab": {
          "base_uri": "https://localhost:8080/"
        },
        "outputId": "e07171a6-e95a-4b4d-9910-243b1d3c91f7"
      },
      "source": [
        "for x,y in zip(x_test, y_test):\n",
        "  print(f'Predicted Target :{clf_svm.predict([x])[0]},Actual target : {y}')\n"
      ],
      "execution_count": null,
      "outputs": [
        {
          "output_type": "stream",
          "text": [
            "Predicted Target :0,Actual target : 0\n",
            "Predicted Target :0,Actual target : 0\n",
            "Predicted Target :0,Actual target : 0\n",
            "Predicted Target :0,Actual target : 0\n",
            "Predicted Target :1,Actual target : 1\n",
            "Predicted Target :0,Actual target : 0\n",
            "Predicted Target :1,Actual target : 1\n",
            "Predicted Target :1,Actual target : 1\n",
            "Predicted Target :0,Actual target : 1\n",
            "Predicted Target :0,Actual target : 0\n",
            "Predicted Target :1,Actual target : 0\n",
            "Predicted Target :1,Actual target : 1\n",
            "Predicted Target :1,Actual target : 1\n",
            "Predicted Target :1,Actual target : 1\n",
            "Predicted Target :1,Actual target : 1\n",
            "Predicted Target :1,Actual target : 1\n",
            "Predicted Target :0,Actual target : 0\n",
            "Predicted Target :1,Actual target : 0\n",
            "Predicted Target :1,Actual target : 1\n",
            "Predicted Target :1,Actual target : 1\n",
            "Predicted Target :1,Actual target : 1\n",
            "Predicted Target :0,Actual target : 0\n",
            "Predicted Target :1,Actual target : 1\n",
            "Predicted Target :1,Actual target : 1\n",
            "Predicted Target :1,Actual target : 1\n",
            "Predicted Target :1,Actual target : 1\n",
            "Predicted Target :1,Actual target : 1\n",
            "Predicted Target :1,Actual target : 0\n",
            "Predicted Target :1,Actual target : 1\n",
            "Predicted Target :1,Actual target : 1\n",
            "Predicted Target :0,Actual target : 0\n",
            "Predicted Target :1,Actual target : 1\n",
            "Predicted Target :1,Actual target : 1\n",
            "Predicted Target :1,Actual target : 0\n",
            "Predicted Target :1,Actual target : 0\n",
            "Predicted Target :0,Actual target : 0\n",
            "Predicted Target :0,Actual target : 0\n",
            "Predicted Target :1,Actual target : 0\n",
            "Predicted Target :0,Actual target : 1\n",
            "Predicted Target :1,Actual target : 1\n",
            "Predicted Target :0,Actual target : 0\n",
            "Predicted Target :0,Actual target : 0\n",
            "Predicted Target :1,Actual target : 1\n",
            "Predicted Target :1,Actual target : 1\n",
            "Predicted Target :0,Actual target : 0\n",
            "Predicted Target :0,Actual target : 0\n",
            "Predicted Target :1,Actual target : 1\n",
            "Predicted Target :0,Actual target : 0\n",
            "Predicted Target :1,Actual target : 1\n",
            "Predicted Target :1,Actual target : 1\n",
            "Predicted Target :1,Actual target : 1\n",
            "Predicted Target :0,Actual target : 0\n",
            "Predicted Target :1,Actual target : 0\n",
            "Predicted Target :1,Actual target : 0\n",
            "Predicted Target :1,Actual target : 0\n",
            "Predicted Target :1,Actual target : 1\n",
            "Predicted Target :1,Actual target : 1\n",
            "Predicted Target :0,Actual target : 1\n",
            "Predicted Target :1,Actual target : 1\n",
            "Predicted Target :1,Actual target : 1\n",
            "Predicted Target :1,Actual target : 1\n",
            "Predicted Target :1,Actual target : 0\n",
            "Predicted Target :1,Actual target : 0\n",
            "Predicted Target :1,Actual target : 1\n",
            "Predicted Target :1,Actual target : 0\n",
            "Predicted Target :0,Actual target : 0\n",
            "Predicted Target :1,Actual target : 1\n",
            "Predicted Target :0,Actual target : 0\n",
            "Predicted Target :1,Actual target : 1\n",
            "Predicted Target :1,Actual target : 0\n",
            "Predicted Target :1,Actual target : 1\n",
            "Predicted Target :0,Actual target : 0\n",
            "Predicted Target :1,Actual target : 1\n",
            "Predicted Target :0,Actual target : 0\n",
            "Predicted Target :1,Actual target : 1\n",
            "Predicted Target :1,Actual target : 1\n",
            "Predicted Target :1,Actual target : 1\n",
            "Predicted Target :0,Actual target : 0\n",
            "Predicted Target :0,Actual target : 0\n",
            "Predicted Target :0,Actual target : 0\n",
            "Predicted Target :1,Actual target : 1\n",
            "Predicted Target :1,Actual target : 1\n",
            "Predicted Target :1,Actual target : 1\n",
            "Predicted Target :0,Actual target : 0\n",
            "Predicted Target :1,Actual target : 1\n",
            "Predicted Target :1,Actual target : 1\n",
            "Predicted Target :1,Actual target : 1\n",
            "Predicted Target :0,Actual target : 0\n",
            "Predicted Target :0,Actual target : 1\n",
            "Predicted Target :0,Actual target : 0\n",
            "Predicted Target :0,Actual target : 1\n",
            "Predicted Target :1,Actual target : 0\n",
            "Predicted Target :1,Actual target : 1\n",
            "Predicted Target :1,Actual target : 1\n",
            "Predicted Target :1,Actual target : 1\n",
            "Predicted Target :1,Actual target : 1\n",
            "Predicted Target :1,Actual target : 0\n",
            "Predicted Target :0,Actual target : 0\n",
            "Predicted Target :0,Actual target : 0\n",
            "Predicted Target :0,Actual target : 0\n",
            "Predicted Target :1,Actual target : 0\n",
            "Predicted Target :1,Actual target : 1\n",
            "Predicted Target :1,Actual target : 1\n",
            "Predicted Target :0,Actual target : 0\n",
            "Predicted Target :1,Actual target : 1\n",
            "Predicted Target :0,Actual target : 1\n",
            "Predicted Target :0,Actual target : 0\n",
            "Predicted Target :0,Actual target : 0\n",
            "Predicted Target :1,Actual target : 1\n",
            "Predicted Target :0,Actual target : 0\n",
            "Predicted Target :1,Actual target : 0\n",
            "Predicted Target :1,Actual target : 0\n",
            "Predicted Target :0,Actual target : 0\n",
            "Predicted Target :0,Actual target : 0\n",
            "Predicted Target :1,Actual target : 1\n",
            "Predicted Target :1,Actual target : 1\n",
            "Predicted Target :0,Actual target : 0\n",
            "Predicted Target :0,Actual target : 0\n",
            "Predicted Target :1,Actual target : 1\n",
            "Predicted Target :0,Actual target : 0\n",
            "Predicted Target :1,Actual target : 1\n",
            "Predicted Target :0,Actual target : 0\n",
            "Predicted Target :1,Actual target : 0\n",
            "Predicted Target :0,Actual target : 0\n",
            "Predicted Target :1,Actual target : 1\n",
            "Predicted Target :0,Actual target : 0\n",
            "Predicted Target :1,Actual target : 1\n",
            "Predicted Target :0,Actual target : 0\n",
            "Predicted Target :1,Actual target : 1\n",
            "Predicted Target :0,Actual target : 0\n",
            "Predicted Target :0,Actual target : 0\n",
            "Predicted Target :0,Actual target : 0\n",
            "Predicted Target :1,Actual target : 1\n",
            "Predicted Target :1,Actual target : 1\n",
            "Predicted Target :1,Actual target : 1\n",
            "Predicted Target :0,Actual target : 0\n",
            "Predicted Target :0,Actual target : 0\n",
            "Predicted Target :0,Actual target : 0\n",
            "Predicted Target :1,Actual target : 1\n",
            "Predicted Target :1,Actual target : 1\n",
            "Predicted Target :0,Actual target : 0\n",
            "Predicted Target :1,Actual target : 0\n",
            "Predicted Target :1,Actual target : 1\n",
            "Predicted Target :1,Actual target : 0\n",
            "Predicted Target :1,Actual target : 1\n",
            "Predicted Target :0,Actual target : 0\n",
            "Predicted Target :1,Actual target : 1\n",
            "Predicted Target :1,Actual target : 1\n",
            "Predicted Target :0,Actual target : 0\n",
            "Predicted Target :1,Actual target : 1\n",
            "Predicted Target :1,Actual target : 1\n",
            "Predicted Target :1,Actual target : 1\n",
            "Predicted Target :0,Actual target : 0\n",
            "Predicted Target :1,Actual target : 1\n",
            "Predicted Target :1,Actual target : 1\n",
            "Predicted Target :1,Actual target : 0\n",
            "Predicted Target :1,Actual target : 0\n",
            "Predicted Target :1,Actual target : 1\n",
            "Predicted Target :1,Actual target : 1\n",
            "Predicted Target :0,Actual target : 0\n",
            "Predicted Target :1,Actual target : 1\n",
            "Predicted Target :0,Actual target : 0\n",
            "Predicted Target :0,Actual target : 0\n",
            "Predicted Target :0,Actual target : 0\n",
            "Predicted Target :1,Actual target : 1\n",
            "Predicted Target :0,Actual target : 0\n",
            "Predicted Target :0,Actual target : 0\n",
            "Predicted Target :0,Actual target : 0\n",
            "Predicted Target :0,Actual target : 0\n",
            "Predicted Target :1,Actual target : 1\n",
            "Predicted Target :0,Actual target : 0\n",
            "Predicted Target :1,Actual target : 1\n",
            "Predicted Target :1,Actual target : 1\n",
            "Predicted Target :1,Actual target : 1\n",
            "Predicted Target :1,Actual target : 0\n",
            "Predicted Target :1,Actual target : 0\n",
            "Predicted Target :0,Actual target : 0\n",
            "Predicted Target :0,Actual target : 0\n",
            "Predicted Target :1,Actual target : 1\n",
            "Predicted Target :1,Actual target : 1\n",
            "Predicted Target :1,Actual target : 1\n",
            "Predicted Target :0,Actual target : 0\n",
            "Predicted Target :1,Actual target : 1\n",
            "Predicted Target :1,Actual target : 0\n",
            "Predicted Target :0,Actual target : 0\n",
            "Predicted Target :1,Actual target : 1\n",
            "Predicted Target :1,Actual target : 1\n",
            "Predicted Target :0,Actual target : 1\n",
            "Predicted Target :0,Actual target : 0\n",
            "Predicted Target :1,Actual target : 1\n",
            "Predicted Target :0,Actual target : 0\n",
            "Predicted Target :1,Actual target : 1\n",
            "Predicted Target :1,Actual target : 1\n",
            "Predicted Target :0,Actual target : 1\n",
            "Predicted Target :0,Actual target : 0\n",
            "Predicted Target :0,Actual target : 0\n",
            "Predicted Target :1,Actual target : 0\n",
            "Predicted Target :1,Actual target : 1\n",
            "Predicted Target :1,Actual target : 1\n",
            "Predicted Target :1,Actual target : 1\n",
            "Predicted Target :0,Actual target : 0\n",
            "Predicted Target :1,Actual target : 1\n",
            "Predicted Target :1,Actual target : 1\n",
            "Predicted Target :0,Actual target : 0\n",
            "Predicted Target :1,Actual target : 1\n",
            "Predicted Target :1,Actual target : 0\n",
            "Predicted Target :1,Actual target : 1\n",
            "Predicted Target :1,Actual target : 1\n",
            "Predicted Target :1,Actual target : 1\n",
            "Predicted Target :1,Actual target : 0\n",
            "Predicted Target :0,Actual target : 1\n",
            "Predicted Target :1,Actual target : 1\n",
            "Predicted Target :0,Actual target : 0\n",
            "Predicted Target :1,Actual target : 1\n",
            "Predicted Target :0,Actual target : 0\n",
            "Predicted Target :1,Actual target : 1\n",
            "Predicted Target :0,Actual target : 0\n",
            "Predicted Target :1,Actual target : 1\n",
            "Predicted Target :0,Actual target : 0\n",
            "Predicted Target :1,Actual target : 1\n",
            "Predicted Target :1,Actual target : 0\n",
            "Predicted Target :1,Actual target : 1\n",
            "Predicted Target :0,Actual target : 0\n",
            "Predicted Target :1,Actual target : 1\n",
            "Predicted Target :1,Actual target : 0\n",
            "Predicted Target :0,Actual target : 0\n",
            "Predicted Target :0,Actual target : 0\n",
            "Predicted Target :1,Actual target : 1\n",
            "Predicted Target :1,Actual target : 1\n",
            "Predicted Target :0,Actual target : 0\n",
            "Predicted Target :1,Actual target : 1\n",
            "Predicted Target :1,Actual target : 1\n",
            "Predicted Target :1,Actual target : 0\n",
            "Predicted Target :1,Actual target : 1\n",
            "Predicted Target :1,Actual target : 0\n",
            "Predicted Target :1,Actual target : 1\n",
            "Predicted Target :0,Actual target : 0\n",
            "Predicted Target :0,Actual target : 0\n",
            "Predicted Target :1,Actual target : 0\n",
            "Predicted Target :1,Actual target : 1\n",
            "Predicted Target :1,Actual target : 1\n",
            "Predicted Target :0,Actual target : 0\n",
            "Predicted Target :0,Actual target : 0\n",
            "Predicted Target :1,Actual target : 1\n",
            "Predicted Target :1,Actual target : 1\n",
            "Predicted Target :1,Actual target : 1\n",
            "Predicted Target :1,Actual target : 1\n",
            "Predicted Target :0,Actual target : 0\n",
            "Predicted Target :1,Actual target : 1\n",
            "Predicted Target :0,Actual target : 0\n",
            "Predicted Target :0,Actual target : 0\n",
            "Predicted Target :0,Actual target : 0\n",
            "Predicted Target :1,Actual target : 1\n",
            "Predicted Target :1,Actual target : 1\n",
            "Predicted Target :1,Actual target : 1\n",
            "Predicted Target :0,Actual target : 0\n",
            "Predicted Target :1,Actual target : 1\n",
            "Predicted Target :0,Actual target : 0\n",
            "Predicted Target :1,Actual target : 1\n",
            "Predicted Target :0,Actual target : 0\n",
            "Predicted Target :1,Actual target : 1\n",
            "Predicted Target :1,Actual target : 1\n",
            "Predicted Target :1,Actual target : 1\n",
            "Predicted Target :1,Actual target : 1\n",
            "Predicted Target :0,Actual target : 0\n",
            "Predicted Target :0,Actual target : 0\n",
            "Predicted Target :1,Actual target : 1\n",
            "Predicted Target :1,Actual target : 1\n",
            "Predicted Target :0,Actual target : 0\n",
            "Predicted Target :1,Actual target : 0\n",
            "Predicted Target :0,Actual target : 0\n",
            "Predicted Target :0,Actual target : 0\n",
            "Predicted Target :1,Actual target : 1\n",
            "Predicted Target :1,Actual target : 1\n",
            "Predicted Target :0,Actual target : 1\n",
            "Predicted Target :0,Actual target : 0\n",
            "Predicted Target :0,Actual target : 0\n",
            "Predicted Target :1,Actual target : 1\n",
            "Predicted Target :1,Actual target : 1\n",
            "Predicted Target :1,Actual target : 1\n",
            "Predicted Target :0,Actual target : 0\n",
            "Predicted Target :0,Actual target : 0\n",
            "Predicted Target :1,Actual target : 1\n",
            "Predicted Target :1,Actual target : 1\n",
            "Predicted Target :1,Actual target : 1\n",
            "Predicted Target :1,Actual target : 1\n",
            "Predicted Target :1,Actual target : 1\n",
            "Predicted Target :1,Actual target : 1\n",
            "Predicted Target :1,Actual target : 1\n",
            "Predicted Target :0,Actual target : 0\n",
            "Predicted Target :0,Actual target : 0\n",
            "Predicted Target :1,Actual target : 0\n",
            "Predicted Target :0,Actual target : 1\n",
            "Predicted Target :1,Actual target : 1\n",
            "Predicted Target :0,Actual target : 0\n",
            "Predicted Target :0,Actual target : 0\n",
            "Predicted Target :1,Actual target : 0\n",
            "Predicted Target :0,Actual target : 0\n",
            "Predicted Target :0,Actual target : 0\n",
            "Predicted Target :0,Actual target : 0\n",
            "Predicted Target :0,Actual target : 0\n",
            "Predicted Target :0,Actual target : 0\n",
            "Predicted Target :1,Actual target : 0\n",
            "Predicted Target :0,Actual target : 1\n",
            "Predicted Target :0,Actual target : 0\n",
            "Predicted Target :1,Actual target : 1\n",
            "Predicted Target :0,Actual target : 0\n",
            "Predicted Target :1,Actual target : 1\n"
          ],
          "name": "stdout"
        }
      ]
    },
    {
      "cell_type": "markdown",
      "metadata": {
        "id": "ui2tXkR5NiD9"
      },
      "source": [
        "# ACCURACY COMPARISION"
      ]
    },
    {
      "cell_type": "code",
      "metadata": {
        "id": "xPR_ul9eFnQt",
        "colab": {
          "base_uri": "https://localhost:8080/"
        },
        "outputId": "cf7ef92b-041c-4d27-f271-4e6a666560de"
      },
      "source": [
        "\n",
        "models = [\n",
        "          dm,\n",
        "        log_model,\n",
        "        random_forest,\n",
        "        clf\n",
        "]\n",
        "\n",
        "for model in models:\n",
        "    names = model.__class__.__name__\n",
        "    \n",
        "    if model == dm:\n",
        "      accuracy = accuracy_dm\n",
        "    elif model == log_model:\n",
        "      accuracy = log_accurracy\n",
        "    elif model == clf:\n",
        "      accuracy = accuracy_knn\n",
        "    else:\n",
        "      accuracy = ac\n",
        "    \n",
        "    print(\"-\"*20)\n",
        "    print(names + \":\" )\n",
        "    print(\"Accuracy: {:.4%}\".format(accuracy))\n"
      ],
      "execution_count": null,
      "outputs": [
        {
          "output_type": "stream",
          "text": [
            "--------------------\n",
            "DecisionTreeClassifier:\n",
            "Accuracy: 97.7273%\n",
            "--------------------\n",
            "LogisticRegression:\n",
            "Accuracy: 79.5455%\n",
            "--------------------\n",
            "RandomForestClassifier:\n",
            "Accuracy: 89.9351%\n",
            "--------------------\n",
            "KNeighborsClassifier:\n",
            "Accuracy: 93.7238%\n"
          ],
          "name": "stdout"
        }
      ]
    },
    {
      "cell_type": "code",
      "metadata": {
        "id": "4lWxBu29CRDp"
      },
      "source": [
        ""
      ],
      "execution_count": null,
      "outputs": []
    },
    {
      "cell_type": "code",
      "metadata": {
        "id": "LmgOKZUyqvIS"
      },
      "source": [
        ""
      ],
      "execution_count": null,
      "outputs": []
    }
  ]
}